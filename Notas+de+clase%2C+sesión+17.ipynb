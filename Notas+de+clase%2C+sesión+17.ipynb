{
 "cells": [
  {
   "cell_type": "markdown",
   "metadata": {
    "slideshow": {
     "slide_type": "slide"
    }
   },
   "source": [
    "# Notas de clase, sesión 17 (Listas, parte I)"
   ]
  },
  {
   "cell_type": "markdown",
   "metadata": {
    "slideshow": {
     "slide_type": "slide"
    }
   },
   "source": [
    "El tipo \"listas\" funciona como un almacenador que guarda una cantidad de objetos ordenados. Como veremos en los ejemplos a continuación, estos objetos pueden ser números (enteros o flotantes), cadenas de caracteres, e incluso imágenes (como lo veremos en la tarea)."
   ]
  },
  {
   "cell_type": "markdown",
   "metadata": {
    "slideshow": {
     "slide_type": "slide"
    }
   },
   "source": [
    "# Este es el ejemplo que vimos en clase, sobre el funcionamiento de las listas"
   ]
  },
  {
   "cell_type": "markdown",
   "metadata": {
    "slideshow": {
     "slide_type": "slide"
    }
   },
   "source": [
    "Los programas pueden necesitar almacenar una gran cantidad de números,  usted podría necesitar leer dichas cantidades y computar el promedio. Para realizar esto se tendría que almacenar cada uno en una variable (lo solucionamos sumando sus valores, con lo cual no almacenamos sus valores, en caso de error en la entrada teníamos que volver ejecutar el programa), calcular el promedio y luego podría comparar los valores con el promedio, cuales están por encima y cuales por debajo de este promedio. Podríamos crear 100 variables o podríamos crear un objeto que sería una lista que contenga los 100 números."
   ]
  },
  {
   "cell_type": "code",
   "execution_count": 93,
   "metadata": {
    "slideshow": {
     "slide_type": "slide"
    }
   },
   "outputs": [
    {
     "name": "stdout",
     "output_type": "stream",
     "text": [
      "Introduzca un nÃºmero: 2\n",
      "Introduzca un nÃºmero: 6\n",
      "Introduzca un nÃºmero: 4\n",
      "Introduzca un nÃºmero: 8\n",
      "Introduzca un nÃºmero: 2\n",
      "El promedio es:  4.4\n",
      "El número de elementos por encima del promedio es:  2\n"
     ]
    }
   ],
   "source": [
    "Nelements = 5\n",
    "\n",
    "numbers = []\n",
    "\n",
    "add = 0.\n",
    "\n",
    "for i in range(Nelements):\n",
    "    value = input(\"Introduzca un número: \")\n",
    "    numbers.append(value)\n",
    "    add += value\n",
    "\n",
    "average = add / Nelements\n",
    "\n",
    "count = 0\n",
    "for i in range(Nelements):\n",
    "    if numbers[i] > average:\n",
    "        count += 1\n",
    "\n",
    "print \"El promedio es: \", average\n",
    "print \"El número de elementos por encima del promedio es: \", count\n"
   ]
  },
  {
   "cell_type": "markdown",
   "metadata": {
    "slideshow": {
     "slide_type": "slide"
    }
   },
   "source": [
    "##### Los corchetes [] son los usados para la creacion de listas. Si igualamos una variable a una expresión dentro de los corchetes, esta se convertirá en una lista. Si queremos poner varios objetos en una misma lista, estos deben estar separados por coma.\n",
    "\n",
    "Recordemos que una lista puede tener objetos de diferente tipo (números o cadenas de caracteres, por ejemplo). Estos distintos objetos pueden ser todos parte de una misma lista.\n",
    "\n",
    "También podemos optar por crear una lista con la función list()."
   ]
  },
  {
   "cell_type": "code",
   "execution_count": 3,
   "metadata": {
    "slideshow": {
     "slide_type": "fragment"
    }
   },
   "outputs": [
    {
     "name": "stdout",
     "output_type": "stream",
     "text": [
      "['a', 'b', 'c']\n",
      "['a', 1, 2.5]\n",
      "[0, 1, 2, 3, 4, 5, 6, 7, 8, 9]\n"
     ]
    }
   ],
   "source": [
    "lettersList = [\"a\", \"b\", \"c\"]\n",
    "mixedList = [\"a\", 1, 2.5]\n",
    "aList = list(x for x in range(10))\n",
    "\n",
    "print lettersList\n",
    "print mixedList\n",
    "print aList"
   ]
  },
  {
   "cell_type": "markdown",
   "metadata": {
    "slideshow": {
     "slide_type": "slide"
    }
   },
   "source": [
    "## Las listas son un tipo secuencia"
   ]
  },
  {
   "cell_type": "markdown",
   "metadata": {
    "slideshow": {
     "slide_type": "fragment"
    }
   },
   "source": [
    "Análogamente a las cadenas de caracteres, existen múltiples funciones que podemos aplicar a las listas para obtener información de ellas. Esto es porque las listas se comportan como un tipo de secuencia de distintos objetos (así como un string es una secuencia de caracteres). Esta tabla, mostrada en clase, listasolo algunas de las operaciones con listas posibles."
   ]
  },
  {
   "cell_type": "markdown",
   "metadata": {
    "slideshow": {
     "slide_type": "slide"
    }
   },
   "source": [
    "| Operación | Descripción \n",
    "|---|---\n",
    "| x in s | Verdadero si x está en la lista x\n",
    "| x not in s| Verdadero si x no está en la lista x\n",
    "|s1 + s2| Concatena las listas s1 y s2\n",
    "|s[i]| Elemento i de la lista\n",
    "|s[i : j]| Pedazo de la lista desde el índice i hasta el índice j-1\n",
    "|len(s)| Longitud de la lista s, el número de elementos en s\n",
    "|min(s)| El elemento más pequeño en la lista s\n",
    "|max(s)| El elemento más grande en la lista s\n",
    "|sum(s)| La suma de todos los números en la lista s\n",
    "|for loop| Recorre todos los elementos de la lista de izquierda a derecha\n",
    "|<, <=, >, >=, =, !=| compara dos listas"
   ]
  },
  {
   "cell_type": "markdown",
   "metadata": {
    "slideshow": {
     "slide_type": "slide"
    }
   },
   "source": [
    "Este es un ejemplo dado por el profesor. Con él, observamos operaciones tales como obtener la longitud de la lista, su valor máximo, o mínimo. Es de notar el uso de la función np.random.shuffle(list), que ordena aleatoriamente los elementos de la lista que sea su argumento."
   ]
  },
  {
   "cell_type": "code",
   "execution_count": 4,
   "metadata": {
    "slideshow": {
     "slide_type": "slide"
    }
   },
   "outputs": [
    {
     "name": "stdout",
     "output_type": "stream",
     "text": [
      "[0, 1, 2, 3, 4, 5, 6, 7, 8, 9]\n",
      "10\n",
      "9\n",
      "0\n",
      "45\n",
      "[7, 6, 2, 8, 3, 4, 9, 5, 1, 0]\n"
     ]
    }
   ],
   "source": [
    "import numpy as np\n",
    "\n",
    "list1 = range(10)\n",
    "\n",
    "print list1\n",
    "print len(list1)\n",
    "print max(list1)\n",
    "print min(list1)\n",
    "print sum(list1)\n",
    "np.random.shuffle(list1)\n",
    "print list1"
   ]
  },
  {
   "cell_type": "markdown",
   "metadata": {
    "slideshow": {
     "slide_type": "slide"
    }
   },
   "source": [
    "En clase, obviamos operadores como el índice (nombreLista[índice]) que nos arrojaba el elemento correspondiente a ese índice. Sin embargo, considero que es importante recordar el modo de funcionamiento de esta operación, que es exactamente igual al de los strings.\n",
    "\n",
    "Recordemos que el primer objeto de la lista tiene índice 0. Si escribimos nombreLissta[1] NO obtendremos el primer objeto en esta, sino el segundo. De igual forma, podemos usar el índice -1 para obtener el último elemento de la lista, ya que con números negativos, el código empieza a contar en orden inverso."
   ]
  },
  {
   "cell_type": "code",
   "execution_count": 5,
   "metadata": {
    "slideshow": {
     "slide_type": "fragment"
    }
   },
   "outputs": [
    {
     "name": "stdout",
     "output_type": "stream",
     "text": [
      "[1, 2, 3, 4, 5, 6, 7, 8, 9, 10, 11, 12, 13, 14, 15, 16, 17, 18, 19, 20, 21, 22, 23, 24, 25]\n",
      "1\n",
      "2\n",
      "25\n"
     ]
    }
   ],
   "source": [
    "list = [x for x in range(1,26)]\n",
    "print list\n",
    "\n",
    "print list[0] #primer objeto\n",
    "print list[1] #segundo objeto\n",
    "print list[-1] #último objeto"
   ]
  },
  {
   "cell_type": "markdown",
   "metadata": {
    "slideshow": {
     "slide_type": "slide"
    }
   },
   "source": [
    "El método curioso que utilizamos arriba para crear la lista es bastante útil. La lista comprende la sintaxis arriba escrita, en la que básicamente le estamos diciendo que nos cree una lista cuyos objetos sean todos los números (x) que estén entre 1 y 26 (sin incluir el 26).\n",
    "\n",
    "La sintaxis correcta es:\n",
    "\n",
    "x for x in range(...)\n",
    "\n",
    "He visto situaciones en las que por una sintaxis incorrecta se dan errores, tal como:\n",
    "\n",
    "x in range(...)"
   ]
  },
  {
   "cell_type": "code",
   "execution_count": 6,
   "metadata": {
    "slideshow": {
     "slide_type": "fragment"
    }
   },
   "outputs": [
    {
     "name": "stdout",
     "output_type": "stream",
     "text": [
      "[False]\n"
     ]
    }
   ],
   "source": [
    "list = [x in range(25)]\n",
    "print list\n",
    "\n",
    "#al correrlo, la impresión nos dice \"False\""
   ]
  },
  {
   "cell_type": "markdown",
   "metadata": {
    "slideshow": {
     "slide_type": "slide"
    }
   },
   "source": [
    "### Ejemplos dados en clase de cómo crear correctamente una lista con este método"
   ]
  },
  {
   "cell_type": "code",
   "execution_count": 7,
   "metadata": {
    "scrolled": true,
    "slideshow": {
     "slide_type": "fragment"
    }
   },
   "outputs": [
    {
     "name": "stdout",
     "output_type": "stream",
     "text": [
      "[0, 1, 2, 3, 4]\n",
      "[0.0, 0.5, 1.0, 1.5, 2.0]\n",
      "[0.0, 0.5, 1.0]\n"
     ]
    }
   ],
   "source": [
    "list1 = [x for x in range(5)] \n",
    "print list1\n",
    "\n",
    "list2 = [0.5 * x for x in list1]\n",
    "print list2\n",
    "\n",
    "list3 = [x for x in list2 if x < 1.5]\n",
    "print list3"
   ]
  },
  {
   "cell_type": "markdown",
   "metadata": {
    "slideshow": {
     "slide_type": "slide"
    }
   },
   "source": [
    "## Métodos de la clase lista"
   ]
  },
  {
   "cell_type": "markdown",
   "metadata": {
    "slideshow": {
     "slide_type": "fragment"
    }
   },
   "source": [
    "A continuación está la tabla mostrada en clase, sobre los métodos que podemos aplicar a las listas, para modificarlas.\n",
    "\n",
    "Es pertinente resaltar tal vez el más importante de estos: append(...). Este anexará un elemento deseado al final de la lista deseada, y solo AL FINAL."
   ]
  },
  {
   "cell_type": "markdown",
   "metadata": {
    "slideshow": {
     "slide_type": "slide"
    }
   },
   "source": [
    "|Lista|Descripción\n",
    "|---|---\n",
    "|append(x: object): None| Añade un elemento *x* al final de la lista.\n",
    "|count(x: object): int| Regresa el número de veces que el elemento *x* aparece en la lista.\n",
    "|extend(l: list): None| Extiende la lista con los *l* elementos que contiene.\n",
    "|index(x: object): int| Regresa el índice de la primera ocurrencia del elemento *x* en la lista.\n",
    "|insert(index: int, x: object):| Inserta un elemento *x* en el índice dado. Moviendo los elementos.\n",
    "|pop(i) : object| Elimina el elemento en la posición dada y lo regresa. El parámetro *i* es opcional. Si no se especifica elimina y regresa el último elemento de la lista.\n",
    "|remove(x: object): None| Elimina la primera ocurrencia del elemento *x* de la lista.\n",
    "|reverse(x: object): None| Invierte los elementos en la lista.\n",
    "|sort(): None| Ordena los elementos en la lista en orden ascendiente."
   ]
  },
  {
   "cell_type": "markdown",
   "metadata": {
    "slideshow": {
     "slide_type": "slide"
    }
   },
   "source": [
    "Ejemplos del uso de estos métodos."
   ]
  },
  {
   "cell_type": "code",
   "execution_count": 8,
   "metadata": {
    "slideshow": {
     "slide_type": "fragment"
    }
   },
   "outputs": [
    {
     "name": "stdout",
     "output_type": "stream",
     "text": [
      "[2, 3, 4, 1, 32, 4, 19]\n",
      "2\n",
      "[2, 3, 4, 1, 32, 4, 19, 50, 42]\n",
      "2\n",
      "[2, 25, 3, 4, 1, 32, 4, 19, 50, 42]\n"
     ]
    }
   ],
   "source": [
    "list1 = [2, 3, 4, 1, 32, 4]\n",
    "list1.append(19)\n",
    "print list1\n",
    "print list1.count(4)\n",
    "list2=[50, 42]\n",
    "list1.extend(list2)\n",
    "print list1\n",
    "print list1.index(4)\n",
    "list1.insert(1, 25)\n",
    "print list1"
   ]
  },
  {
   "cell_type": "markdown",
   "metadata": {
    "slideshow": {
     "slide_type": "slide"
    }
   },
   "source": [
    "## Separar un string en una lista."
   ]
  },
  {
   "cell_type": "markdown",
   "metadata": {
    "slideshow": {
     "slide_type": "fragment"
    }
   },
   "source": [
    "Como vimos en clase, podemos usar un separador (elegido por el usuario) con el método split(separador) para que los elementos de una cadena de caracteres que estén separados mediante ese separador, se conviertan en elementos de una lista. Ejemplos a continuación. Si no se usa ningún argumento en el split(), el separador por defecto es el espacio."
   ]
  },
  {
   "cell_type": "code",
   "execution_count": 9,
   "metadata": {
    "slideshow": {
     "slide_type": "fragment"
    }
   },
   "outputs": [
    {
     "name": "stdout",
     "output_type": "stream",
     "text": [
      "['Jane', 'John', 'Peter', 'Susan']\n"
     ]
    }
   ],
   "source": [
    "items = \"Jane John Peter Susan\".split()\n",
    "print items"
   ]
  },
  {
   "cell_type": "code",
   "execution_count": 10,
   "metadata": {
    "slideshow": {
     "slide_type": "fragment"
    }
   },
   "outputs": [
    {
     "name": "stdout",
     "output_type": "stream",
     "text": [
      "['2017', '11', '22']\n"
     ]
    }
   ],
   "source": [
    "items = \"22/11/2017\".split(\"/\")\n",
    "items.reverse()\n",
    "print items"
   ]
  },
  {
   "cell_type": "markdown",
   "metadata": {
    "slideshow": {
     "slide_type": "slide"
    }
   },
   "source": [
    "## Lista de entrada"
   ]
  },
  {
   "cell_type": "markdown",
   "metadata": {
    "slideshow": {
     "slide_type": "fragment"
    }
   },
   "source": [
    "En los siguientes dos ejemplos observamos la creación de listas mediante inputs. Usamos los métodos append y split ya mencionados."
   ]
  },
  {
   "cell_type": "code",
   "execution_count": 12,
   "metadata": {
    "slideshow": {
     "slide_type": "fragment"
    }
   },
   "outputs": [
    {
     "name": "stdout",
     "output_type": "stream",
     "text": [
      "Entre 4 números: \n",
      "1\n",
      "2\n",
      "3\n",
      "4\n",
      "[1, 2, 3, 4]\n"
     ]
    }
   ],
   "source": [
    "lst = [] \n",
    "print(\"Entre 4 números: \")\n",
    "\n",
    "for i in range(4):\n",
    "    lst.append(input())\n",
    "print lst"
   ]
  },
  {
   "cell_type": "code",
   "execution_count": 1,
   "metadata": {
    "slideshow": {
     "slide_type": "fragment"
    }
   },
   "outputs": [
    {
     "name": "stdout",
     "output_type": "stream",
     "text": [
      "Entre 4 nÃºmeros separados por espacios en una lÃ­nea: 1 2 3 4\n",
      "[1, 2, 3, 4]\n"
     ]
    }
   ],
   "source": [
    "s = raw_input(\"Entre 4 números separados por espacios en una línea: \")\n",
    "items = s.split()\n",
    "\n",
    "lst = [int(x) for x in items]\n",
    "print lst"
   ]
  },
  {
   "cell_type": "markdown",
   "metadata": {
    "slideshow": {
     "slide_type": "slide"
    }
   },
   "source": [
    "## Cambio de elementos (shifting)"
   ]
  },
  {
   "cell_type": "code",
   "execution_count": 2,
   "metadata": {
    "slideshow": {
     "slide_type": "fragment"
    }
   },
   "outputs": [
    {
     "name": "stdout",
     "output_type": "stream",
     "text": [
      "[3, 4, 1, 32, 4, 2]\n"
     ]
    }
   ],
   "source": [
    "def shift(lst):\n",
    "    temp = lst[0]\n",
    "    for i in range(1, len(lst)):\n",
    "        lst[i - 1] = lst[i]\n",
    "    lst[len(lst) - 1] = temp\n",
    "\n",
    "list1 = [2, 3, 4, 1, 32, 4]\n",
    "shift(list1)\n",
    "print list1"
   ]
  },
  {
   "cell_type": "markdown",
   "metadata": {
    "slideshow": {
     "slide_type": "slide"
    }
   },
   "source": [
    "El código anterior es una función diseñada por el profesor para correr los elementos de la lista un espacio a la izquierda (intercambiando índices con sus vecinos). El siguiente código que diseñé basado en el anterior hace algo similar, pero solo cambia de lugar aquellos objetos cuyo índice sea impar, si la longitud de la cadena es par, y viceversa."
   ]
  },
  {
   "cell_type": "code",
   "execution_count": 3,
   "metadata": {
    "slideshow": {
     "slide_type": "fragment"
    }
   },
   "outputs": [
    {
     "name": "stdout",
     "output_type": "stream",
     "text": [
      "16\n",
      "[30, 1, 0, 3, 2, 5, 4, 7, 6, 9, 8, 11, 10, 13, 12, 15, 14, 17, 16, 19, 18, 21, 20, 23, 22, 25, 24, 27, 26, 29, 28]\n"
     ]
    }
   ],
   "source": [
    "def shift(lst):\n",
    "    if len(lst) % 2 == 0:\n",
    "        temp = lst[1]\n",
    "        for i in range(len(lst) // 2):\n",
    "            lst[- 2 * i + 1] = lst[- 2 * i - 1]\n",
    "        lst[3] = temp\n",
    "    else:\n",
    "        temp1 = lst[-1]\n",
    "        temp2 = lst[0]\n",
    "        temp3 = lst[1]\n",
    "        for i in range(len(lst) // 2):\n",
    "            lst[- 2 * i + 1] = lst[- 2 * i - 1]\n",
    "        lst[0] = temp1\n",
    "        lst[2] = temp2\n",
    "        lst[1] = temp3\n",
    "        print len(lst) // 2 + 1\n",
    "\n",
    "list1 = [x for x in range(31)]\n",
    "shift(list1)\n",
    "print list1"
   ]
  },
  {
   "cell_type": "markdown",
   "metadata": {
    "slideshow": {
     "slide_type": "fragment"
    }
   },
   "source": [
    "Nótese en el ejemplo de arriba, que en el resultado, los números de índice impar están ordenados perfectamente, pero los pares se han desplazado un lugar a la derecha (cambiando de lugar con su par vecino)."
   ]
  },
  {
   "cell_type": "markdown",
   "metadata": {
    "slideshow": {
     "slide_type": "slide"
    }
   },
   "source": [
    "## Baraja de cartas"
   ]
  },
  {
   "cell_type": "markdown",
   "metadata": {
    "slideshow": {
     "slide_type": "fragment"
    }
   },
   "source": [
    "Este es el ejemplo dado en clase, con un barajeo de cartas."
   ]
  },
  {
   "cell_type": "code",
   "execution_count": 4,
   "metadata": {
    "slideshow": {
     "slide_type": "fragment"
    }
   },
   "outputs": [
    {
     "name": "stdout",
     "output_type": "stream",
     "text": [
      "El número de la carta  50  es el  queen  de  clubs\n",
      "El número de la carta  32  es el  7  de  diamonds\n",
      "El número de la carta  36  es el  jack  de  diamonds\n",
      "El número de la carta  33  es el  8  de  diamonds\n"
     ]
    }
   ],
   "source": [
    "import numpy as np\n",
    "deck = [x for x in range(52)]\n",
    "\n",
    "suits = [\"spades\", \"hearts\", \"diamonds\", \"clubs\"]\n",
    "ranks = [\"ace\", \"2\", \"3\", \"4\", \"5\", \"6\", \"7\", \"8\", \"9\", \"10\", \"jack\", \"queen\", \"king\"]\n",
    "\n",
    "np.random.shuffle(deck)\n",
    " \n",
    "for i in range(4):\n",
    "    suit = suits[deck[i] // 13]\n",
    "    rank = ranks[deck[i] % 13]\n",
    "    print \"El número de la carta \", deck[i], \" es el \", rank, \" de \", suit"
   ]
  },
  {
   "cell_type": "markdown",
   "metadata": {
    "slideshow": {
     "slide_type": "slide"
    }
   },
   "source": [
    "Ahora lo hacemos con algo real...\n",
    "\n",
    "Tomamos un deck de imágenes de cartas:\n",
    "\n",
    "https://github.com/hayeah/playing-cards-assets/tree/master/png"
   ]
  },
  {
   "cell_type": "markdown",
   "metadata": {
    "slideshow": {
     "slide_type": "fragment"
    }
   },
   "source": [
    "Y lo volvemos tarea..."
   ]
  },
  {
   "cell_type": "markdown",
   "metadata": {
    "slideshow": {
     "slide_type": "slide"
    }
   },
   "source": [
    "## Tarea: Complete el algoritmo\n",
    "\n",
    "- Separen inteligentemente y organicen por nombres de cartas en los archivos\n",
    "- Lean las imágenes de acuerdo con su sistema operativo."
   ]
  },
  {
   "cell_type": "code",
   "execution_count": null,
   "metadata": {
    "collapsed": true,
    "slideshow": {
     "slide_type": "fragment"
    }
   },
   "outputs": [],
   "source": [
    "from tkinter import *\n",
    "\n",
    "import numpy as np\n",
    "\n",
    "class DeckOfCards:\n",
    "    def __init__(self):\n",
    "        window = Tk()\n",
    "        window.title(\"Escoja 4 cartas aleatoriamente\")\n",
    "        for i in range(1, 53):\n",
    "            \n",
    "            self.imageList.append(PhotoImage(file = \"cards/\" + \"Carta#\" + \".extensión\"))\n",
    "    frame = Frame(window)\n",
    "    frame.pack()\n",
    "    \n",
    "    self.labelList = []\n",
    "    for i in range(4):\n",
    "        self.labelList.append(Label(frame,\n",
    "                        image = self.imageList[i]))\n",
    "        self.labelList[i].pack(side = LEFT)\n",
    "    Button(window, text = \"Baraja\",\n",
    "           command = self.shuffle).pack()\n",
    "    \n",
    "    window.mainloop()\n",
    "    \n",
    "    def shuffle(self):\n",
    "        np.random.shuffle(self.imageList)\n",
    "        for i in range(4):\n",
    "            self.labelList[i][\"image\"] = self.imageList[i]\n",
    "\n",
    "DeckOfCards()"
   ]
  },
  {
   "cell_type": "markdown",
   "metadata": {
    "slideshow": {
     "slide_type": "slide"
    }
   },
   "source": [
    "La solución de la tarea está a continuación, comentada debidamente. Para que funcione, se deben tener las imágenes de las cartas en .gif, que irán anexas al .zip que se subirá a GitHub y al aula Tic. El objetivo de la tarea es crear un programa que elija cuatro cartas al azar de una baraja francesa.\n",
    "\n",
    "En el .zip estarán:\n",
    "\n",
    "Estas notas de clase en .ipynb\n",
    "La solución a la tarea, .py\n",
    "Las imágenes de cartas, .gif"
   ]
  },
  {
   "cell_type": "code",
   "execution_count": null,
   "metadata": {
    "collapsed": true,
    "slideshow": {
     "slide_type": "slide"
    }
   },
   "outputs": [],
   "source": [
    "from Tkinter import *\n",
    "import numpy as np\n",
    "\n",
    "class DeckOfCards:\n",
    "    def __init__(self):\n",
    "        \n",
    "        window = Tk()\n",
    "        window.title(\"Cartas\")\n",
    "        frame = Frame(window)\n",
    "        frame2 = Frame(window)\n",
    "        \n",
    "        self.imageList = []\n",
    "        \n",
    "        # Las imágenes de cartas las he llamado con un número del 01 al 54\n",
    "        # (incluyendi Jokers). En las siguietnes líneas, las agrego a una lista.\n",
    "        \n",
    "        for i in range(1, 55):\n",
    "            if i < 10:\n",
    "                self.cardImg = PhotoImage(file = \"cards/0\" + str(i) + \".gif\")\n",
    "            else:\n",
    "                self.cardImg = PhotoImage(file = \"cards/\" + str(i) + \".gif\")\n",
    "            \n",
    "            self.imageList.append(self.cardImg)\n",
    "                                     \n",
    "        self.labelList = []\n",
    "        \n",
    "        for i in range(4):\n",
    "            self.labelList.append(Label(frame, image = self.imageList[i]))\n",
    "            self.labelList[i].pack(side = LEFT)\n",
    "        \n",
    "        # Aparte del botón de barajar, he puesto dos botones para incluir o\n",
    "        # descartar los Jokers.\n",
    "        \n",
    "        Button(window, text = \"Barajar\", command = self.shuffle).pack()\n",
    "        quitarBt = Button(frame2, text = \"Quitar Jokers\", command = self.removeJokers, bg = \"red\")\n",
    "        incluirBt = Button(frame2, text = \"Incluir Jokers\", command = self.includeJokers, bg = \"green\")\n",
    "        \n",
    "        quitarBt.pack()\n",
    "        incluirBt.pack()\n",
    "        quitarBt.grid(row = 2, column = 2)\n",
    "        incluirBt.grid(row = 2, column = 1)\n",
    "                    \n",
    "        frame.pack()\n",
    "        frame2.pack()\n",
    "        \n",
    "        window.mainloop()\n",
    "    \n",
    "    # Al oprimir el botón barajar, se activa la función shuffle, que utiliza\n",
    "    # el shuffle de numpy.random para desordenar aleatoriamente la lista de imágenes.\n",
    "    # Luego, se muestra en pantalla las cuatro primeras imágenes de la lista.\n",
    "    \n",
    "    def shuffle(self):\n",
    "        np.random.shuffle(self.imageList)\n",
    "        for i in range(4):\n",
    "            self.labelList[i][\"image\"] = self.imageList[i]\n",
    "            \n",
    "    # Los botones de quitar o incluir Jokers activan las siguientes dos funciones.\n",
    "    # Lo que hacen es crear desde cero nuevas listas, ya sea incluyendo o\n",
    "    # excluyendo los Jokers de esta.\n",
    "    \n",
    "    def removeJokers(self):\n",
    "        self.imageList = []\n",
    "        \n",
    "        for i in range(1, 53):\n",
    "            if i < 10:\n",
    "                self.cardImg = PhotoImage(file = \"cards/0\" + str(i) + \".gif\")\n",
    "            else:\n",
    "                self.cardImg = PhotoImage(file = \"cards/\" + str(i) + \".gif\")\n",
    "            \n",
    "            self.imageList.append(self.cardImg)\n",
    "    \n",
    "    def includeJokers(self):\n",
    "        self.imageList = []\n",
    "        \n",
    "        for i in range(1, 55):\n",
    "            if i < 10:\n",
    "                self.cardImg = PhotoImage(file = \"cards/0\" + str(i) + \".gif\")\n",
    "            else:\n",
    "                self.cardImg = PhotoImage(file = \"cards/\" + str(i) + \".gif\")\n",
    "            \n",
    "            self.imageList.append(self.cardImg)\n",
    "    \n",
    "DeckOfCards()"
   ]
  }
 ],
 "metadata": {
  "celltoolbar": "Slideshow",
  "kernelspec": {
   "display_name": "Python 2",
   "language": "python",
   "name": "python2"
  },
  "language_info": {
   "codemirror_mode": {
    "name": "ipython",
    "version": 2
   },
   "file_extension": ".py",
   "mimetype": "text/x-python",
   "name": "python",
   "nbconvert_exporter": "python",
   "pygments_lexer": "ipython2",
   "version": "2.7.13"
  }
 },
 "nbformat": 4,
 "nbformat_minor": 2
}
