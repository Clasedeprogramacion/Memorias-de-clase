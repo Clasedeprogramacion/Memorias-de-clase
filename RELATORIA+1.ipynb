{
 "cells": [
  {
   "cell_type": "markdown",
   "metadata": {},
   "source": [
    "# RELATORIA SESIONES 6ta y 7ma"
   ]
  },
  {
   "cell_type": "markdown",
   "metadata": {},
   "source": [
    "## Formato de número y cadenas de caracteres"
   ]
  },
  {
   "cell_type": "markdown",
   "metadata": {},
   "source": [
    " Se puede introducir un número entre el * % * y el carácter que indica el tipo al que formatear, indicando el número mínimo de caracteres que queremos que ocupe la cadena. Si el tamaño de la cadena resultante es menor que este número, se añadirán espacios a la izquierda de la cadena. En el caso de que el número sea negativo, ocurrirá exactamente lo mismo, sólo que los espacios se añadirán a la derecha de la cadena. Los especificadores más sencillos están formados por el símbolo ‘%’ seguido de una letra que indica el tipo con el que formatear el valor. Por ejemplo"
   ]
  },
  {
   "cell_type": "code",
   "execution_count": 22,
   "metadata": {},
   "outputs": [
    {
     "name": "stdout",
     "output_type": "stream",
     "text": [
      "42\n",
      "   42\n",
      "42\n",
      "41.000000\n"
     ]
    }
   ],
   "source": [
    "print format ('%s' % (42,)) #formato cadenas\n",
    "print format ('%d' % (42.1,))#formato enteros \n",
    "print format ('%f' % (41,))#formato real\n"
   ]
  },
  {
   "cell_type": "markdown",
   "metadata": {},
   "source": [
    "## Justificando el formato\n",
    "Para justificar algún formato se puede volver a utilizar el simbolo % y el especificador *s*, como se vio anteriormente; o también se puede utilizar el especificador s, que es el que se utiliza para cadenas, con el simbolo > para justificar a la izquierda y la longitud con la que quiera que se corra el texto. Unos ejemplos pueden ser los siguientes:"
   ]
  },
  {
   "cell_type": "code",
   "execution_count": 28,
   "metadata": {},
   "outputs": [
    {
     "name": "stdout",
     "output_type": "stream",
     "text": [
      "Welcome to Python   \n",
      "Welcome to Python                       \n",
      "   Welcome to Python\n",
      "              Welcome to Python and Java\n"
     ]
    }
   ],
   "source": [
    "print format(\"Welcome to Python\", \"20s\") #se observa que sin el simbolo > no se genera ninguna justificación\n",
    "print format(\"Welcome to Python\", \"<40s\") \n",
    "print format(\"Welcome to Python\", \">20s\")\n",
    "print format(\"Welcome to Python and Java\", \">40s\")"
   ]
  },
  {
   "cell_type": "code",
   "execution_count": 29,
   "metadata": {},
   "outputs": [
    {
     "name": "stdout",
     "output_type": "stream",
     "text": [
      "   Welcome to Python\n",
      "               Welco\n"
     ]
    }
   ],
   "source": [
    "print format ('%20s' % (\"Welcome to Python\" ,)) #también se justifica de esta forma\n",
    "print format ('%20.5s' % (\"Welcome to Python\" ,)) #se se especifica 20.5 se justificará con 20 y solo saldran 5 letras\n"
   ]
  },
  {
   "cell_type": "markdown",
   "metadata": {},
   "source": [
    "## Estructura de selección\n",
    "Se utiliza cuando es requerido que el programa tome cierto tipo de decisiones bajo ciertas condiciones, dentro de esto se puede encontrar if, else, y por último elif (combinación de if y else). Porque se tendrá dos opciones si una condición es cierta ocurrirá una accion A y sino ocurrirá una acción B. \n",
    "Pero, antes de poder explicar más afondo estas declaraciones, se debe indagar las expresiones booleanas.\n",
    "\n",
    "## Expresiones booleanas\n",
    "En python hay seis operadores de comparación, comparan un dato con otro y así poder formar el programa o código que se intenta hacer. Además de los números y los textos que vimos hasta ahora en el curso, Python introduce las constantes True y False para representar los valores de verdadero y falso respectivamente. Se vio que una expresión es un trozo de código Python que produce o calcula un valor (resultado). Una expresión booleana o expresión lógica es una expresión que vale o bien True o bien False\n",
    "\n",
    "Las expresiones booleanas que provee Python son las siguientes:\n",
    " a == b, a es igual a b\n",
    " a != b, a es distinto b\n",
    " a < b, a es menor que b\n",
    " a > b, a es mayor que b\n",
    " a >= b, a es mayor o igual que b\n",
    " a <= b, a es menor o igual que b"
   ]
  },
  {
   "cell_type": "code",
   "execution_count": 30,
   "metadata": {},
   "outputs": [
    {
     "name": "stdout",
     "output_type": "stream",
     "text": [
      "True\n",
      "True\n",
      "False\n",
      "False\n",
      "False\n",
      "True\n"
     ]
    }
   ],
   "source": [
    "x=4\n",
    "print (x < 5)\n",
    "print (x <= 5)\n",
    "print (x > 5)\n",
    "print (x >= 5)\n",
    "print (x == 5)\n",
    "print (x != 5)"
   ]
  },
  {
   "cell_type": "markdown",
   "metadata": {},
   "source": [
    "## Operadores lógicos\n",
    "De la misma manera que se puede operar entre números mediante las operaciones de suma, resta, etc., también existen tres operadores lógicos para combinar expresiones booleanas: and (y), or (o) y not (no).\n",
    "\n",
    "El significado de estos operadores es igual al del castellano, pero vale la pena recordarlo:\n"
   ]
  },
  {
   "cell_type": "code",
   "execution_count": 32,
   "metadata": {},
   "outputs": [
    {
     "data": {
      "text/plain": [
       "(True,)"
      ]
     },
     "execution_count": 32,
     "metadata": {},
     "output_type": "execute_result"
    }
   ],
   "source": [
    "a and b, #el resultado es verdadero solamente si a es verdadero y b es verdadero de lo contrario el resultado es falso \n",
    "a or b, #el resultado es verdadero si a es verdadero o b es verdadero, de lo contrario el resultado es falso \n",
    "not a, #el resultado es verdadero si a es falso de lo contrario el resultado es falso"
   ]
  },
  {
   "cell_type": "markdown",
   "metadata": {},
   "source": [
    "## Declaración IF\n",
    "Utilizando *IF* solo se ejecutará la respuesta si satisface la condición, osea permite que un programa ejecute unas instrucciones cuando se cumplan una condición, en caso de que sea falso no se ejecutará la respuesta. La primera línea contiene la condición a evaluar y es una expresión lógica. Esta línea debe terminar siempre por dos puntos (:).\n",
    "A continuación viene el bloque de órdenes que se ejecutan cuando la condición se cumple (es decir, cuando la condición es verdadera). Es importante señalar que este bloque debe ir sangrado, puesto que Python utiliza el sangrado para reconocer las líneas que forman un bloque de instrucciones. El sangrado que se suele utilizar en Python es de cuatro espacios, pero se pueden utilizar más o menos espacios. Al escribir dos puntos (:) al final de una línea, IDLE sangrará automáticamente las líneas siguientes. Para terminar un bloque, basta con volver al principio de la línea.\n",
    " Un ejemplo de esto sería: "
   ]
  },
  {
   "cell_type": "code",
   "execution_count": 37,
   "metadata": {},
   "outputs": [
    {
     "name": "stdout",
     "output_type": "stream",
     "text": [
      "(3, 'es un numero positivo.')\n"
     ]
    }
   ],
   "source": [
    "num = 3\n",
    "if num > 0:\n",
    "    print(num, \"es un numero positivo.\") #acá se observa que si se genera la respuesta si es positivo\n",
    "\n",
    "num = -1\n",
    "if num > 0:\n",
    "    print(num, \"es un numero positivo.\") #no sale ninguna respuesta ya que solo se tiene la declaración if, y este no cumplió la condición"
   ]
  },
  {
   "cell_type": "code",
   "execution_count": null,
   "metadata": {},
   "outputs": [],
   "source": [
    "numero = int(input(\"Escriba un numero positivo: \"))\n",
    "if numero < 0:\n",
    "    print(\"¡Le he dicho que escriba un numero positivo!\")\n",
    "print(\"Ha escrito el numero {numero}\")"
   ]
  },
  {
   "cell_type": "markdown",
   "metadata": {},
   "source": [
    "## Declaración IF-ELSE\n",
    "La estructura de control if-else permite que un programa ejecute unas instrucciones cuando se cumple una condición y otras instrucciones cuando no se cumple esa condición. En inglés \"if\" significa \"si\" (condición) y \"else\" significa \"si no\". La orden en Pyhton se escribe así:"
   ]
  },
  {
   "cell_type": "code",
   "execution_count": null,
   "metadata": {
    "collapsed": true
   },
   "outputs": [],
   "source": [
    "if condicion:\n",
    "    aquí van las órdenes que se ejecutan si la condición es cierta\n",
    "    y que pueden ocupar varias líneas\n",
    "else:\n",
    "    y aquí van las órdenes que se ejecutan si la condición es\n",
    "    falsa y que también pueden ocupar varias líneas"
   ]
  },
  {
   "cell_type": "markdown",
   "metadata": {},
   "source": [
    "Después viene la línea con la orden else, que indica a Python que el bloque que viene a continuación se tiene que ejecutar cuando la condición no se cumpla (es decir, cuando sea falsa). Esta línea también debe terminar siempre por dos puntos (:). La línea con la orden else no debe incluir nada más que el else y los dos puntos. Un ejemplo de esto es,"
   ]
  },
  {
   "cell_type": "code",
   "execution_count": null,
   "metadata": {
    "collapsed": true
   },
   "outputs": [],
   "source": [
    "edad = int(input(\"¿Cuantos años tiene? \"))\n",
    "if edad < 18:\n",
    "    print(\"Es usted menor de edad\")\n",
    "else:\n",
    "    print(\"Es usted mayor de edad\")\n",
    "print(\"¡Hasta la proxima!\")"
   ]
  },
  {
   "cell_type": "markdown",
   "metadata": {},
   "source": [
    "## *if* anidados y declaraciones múltiples *if-elif-else*\n",
    "elif es una abreviatura de \"else if\". No hay límite al número de sentencias elif, pero sólo se permite una sentencia else (que puede omitirse) y debe ser la última rama de la sentencia.\n"
   ]
  },
  {
   "cell_type": "code",
   "execution_count": null,
   "metadata": {
    "collapsed": true
   },
   "outputs": [],
   "source": [
    "score = input (\"Ingrese su calificación: \")\n",
    "if score >= 90.0:\n",
    "    grade = 'A'\n",
    "elif score >= 80.0:\n",
    "    grade = 'B'\n",
    "elif score >= 70.0:\n",
    "    grade = 'C'\n",
    "elif score >= 60.0:\n",
    "    grade = 'D'\n",
    "else:\n",
    "    grade = 'F'\n",
    "\n",
    "print \"Su nota es: \", grade"
   ]
  },
  {
   "cell_type": "markdown",
   "metadata": {},
   "source": [
    "## Precendencia de los operadores\n",
    "Al crear declaraciones simples que contienen un solo operador, el fin de determinar la salida de ese operador también es simple. Sin embargo, cuando se inicia el trabajo con múltiples operadores, debe ser capaz de determinar qué operador para evaluar primero."
   ]
  },
  {
   "cell_type": "markdown",
   "metadata": {},
   "source": [
    "|Operador|Descripcción|\n",
    "|---|---|\n",
    "|+, -|\"Unary\"|\n",
    "|\\*\\*|Potenciación|\n",
    "|not||\n",
    "|\\*, /, //, %| Multiplicación, división, división entera y resto.|\n",
    "|+, -|Binarios para adición o sustracción.|\n",
    "|==,!=|Igualdad\n",
    "|and||\n",
    "|or||\n",
    "|=, +=, -=, *=, /=, //=, %=| Asignación|"
   ]
  },
  {
   "cell_type": "markdown",
   "metadata": {},
   "source": [
    "## While\n",
    "Permite repetir la ejecución de un grupo de instrucciones mientras se cumpla una condición (es decir, mientras la condición tenga el valor True). En ella se controla cuantas veces en sucesión una operación o secuencia de operaciones es realizada. Utilizando una estructura de iteración no se necesita definir por ejemplo una declaración *print* 100 veces. Simplemente se le pide al computador ejecutar la declaración *print* cualquier número de veces. Cuando llega a un bucle while, Python evalúa la condición y, si es cierta, ejecuta el cuerpo del bucle. Una vez ejecutado el cuerpo del bucle, se repite el proceso (se evalúa de nuevo la condición y, si es cierta, se ejecuta de nuevo el cuerpo del bucle) una y otra vez mientras la condición sea cierta. Únicamente cuando la condición sea falsa, el cuerpo del bucle no se ejecutará y continuará la ejecución del resto del programa.\n",
    "La variable o las variables que aparezcan en la condición se suelen llamar variables de control. Las variables de control deben definirse antes del bucle while y modificarse en el bucle while."
   ]
  },
  {
   "cell_type": "code",
   "execution_count": null,
   "metadata": {
    "collapsed": true
   },
   "outputs": [],
   "source": [
    "i = 1\n",
    "while i <= 3: #se utiliza las expresiones booleanas\n",
    "    print(i)\n",
    "    i += 1\n",
    "print(\"Programa terminado\")"
   ]
  },
  {
   "cell_type": "markdown",
   "metadata": {},
   "source": [
    "Otra ventaja del bucle while es que el número de iteraciones no está definida antes de empezar el bucle, por ejemplo porque los datos los proporciona el usuario. Por ejemplo, el siguiente ejemplo pide un número positivo al usuario una y otra vez hasta que el usuario lo haga correctamente:"
   ]
  },
  {
   "cell_type": "code",
   "execution_count": null,
   "metadata": {
    "collapsed": true
   },
   "outputs": [],
   "source": [
    "continuar = \"S\"\n",
    "count = 0\n",
    "while continuar == \"S\" or continuar == \"s\":\n",
    "    print \"Se ejecuta...\"\n",
    "    continuar = raw_input(\"Desea continuar? (S/N)\")"
   ]
  },
  {
   "cell_type": "markdown",
   "metadata": {},
   "source": [
    "## Valor Centinela\n",
    "Como herramienta para la programación, el uso de variables como señaleros (centinelas) tiene diversas aplicaciones como aportación de información, apoyo a la toma de decisiones, control de bucles, etc. Destaca la importancia del uso de señaleros para el control de bucles. \n",
    "Un problema que suelen tener los programas es que resulta poco amigable preguntarle al usuario después de cada cálculo si desea continuar. Se puede usar el método del centinela: un valor distinguido que, si se lee, le indica al programa que el usuario desea salir del ciclo. En este caso, podemos suponer que si ingresa el caracter asterisco (*) es una indicación de que desea terminar."
   ]
  },
  {
   "cell_type": "markdown",
   "metadata": {},
   "source": [
    "# ACTIVIDADES COMPLEMENTARIAS"
   ]
  },
  {
   "cell_type": "markdown",
   "metadata": {},
   "source": [
    "## Un programa que incluya las expresiones booleanas y las declaraciones previamente vistas, le pide al usuario ingresar un número y este adivinará el día de la semana que se le asignará al número y si este es par o impar "
   ]
  },
  {
   "cell_type": "code",
   "execution_count": 1,
   "metadata": {
    "scrolled": true
   },
   "outputs": [
    {
     "name": "stdout",
     "output_type": "stream",
     "text": [
      "Este programa pide ingresar un numero del 1 al 7, dice a que dia de la semana \n",
      " corresponde y dice si dicho numero es par o impar\n",
      "Ingrese un numero del 1 al 7\n",
      "3\n",
      "El numero ingresado es 3\n",
      "Oprima una tecla para continuar...\n",
      "El dia es Miercoles\n",
      "A continuacion se dira si el numero es par o impar, presione una tecla para continuar...\n",
      "El numero es impar\n",
      "\n"
     ]
    },
    {
     "data": {
      "text/plain": [
       "''"
      ]
     },
     "execution_count": 1,
     "metadata": {},
     "output_type": "execute_result"
    }
   ],
   "source": [
    "print \"Este programa pide ingresar un numero del 1 al 7, dice a que dia de la semana \\n corresponde y dice si dicho numero es par o impar\"\n",
    "print \"Ingrese un numero del 1 al 7\"\n",
    "n=int(input())\n",
    "while n>7 or n<1:\n",
    "    print \"Entre 0 y 7, por favor\"\n",
    "    n=int(input())\n",
    "print \"El numero ingresado es\",n\n",
    "raw_input(\"Oprima una tecla para continuar...\")\n",
    "if n==1:\n",
    "    print \"El dia es Lunes\"\n",
    "elif n==2:\n",
    "    print \"El dia es Martes\"\n",
    "elif n==3:\n",
    "    print \"El dia es Miercoles\"\n",
    "elif n==4:\n",
    "    print \"El dia es Jueves\"\n",
    "elif n==5:\n",
    "    print \"El dia es Viernes\"\n",
    "elif n==6:\n",
    "    print \"El dia es Sabado\"\n",
    "elif n==7:\n",
    "    print \"El dia es Domingo\"\n",
    "raw_input(\"A continuacion se dira si el numero es par o impar, presione una tecla para continuar...\")\n",
    "if n%2==0:\n",
    "    print \"El numero es par\"\n",
    "else:\n",
    "    print \"El numero es impar\"\n",
    "raw_input()\n"
   ]
  },
  {
   "cell_type": "markdown",
   "metadata": {},
   "source": [
    "## Programa de combinación o permutación"
   ]
  },
  {
   "cell_type": "code",
   "execution_count": 4,
   "metadata": {},
   "outputs": [
    {
     "name": "stdout",
     "output_type": "stream",
     "text": [
      "Este programa deja elegir al usuario entre hacer una combinacion o una permutacion \n",
      "posteriormente el resultado se dara en notacion cientifica\n",
      "\n",
      "\n",
      "Sea Q el resultado:\n",
      " Si Q>10^5, el programa dira mayor. \n",
      " Si 10^3<Q<10^5 dira en medio. \n",
      " Si Q<10^3 dira menor.\n",
      "Presione una tecla para continuar...\n",
      "Oprima C para combinacion o P para permutacion, el caso por defecto es permutacion\n",
      "p\n",
      "Ustede eligio permutacion, se le solicitara que ingrese N y R\n",
      "Ingrese la N\n",
      "5\n",
      "Ingrese la R\n",
      "1\n",
      "Q = 5\n",
      "Menor\n",
      "2\n"
     ]
    },
    {
     "data": {
      "text/plain": [
       "'2'"
      ]
     },
     "execution_count": 4,
     "metadata": {},
     "output_type": "execute_result"
    }
   ],
   "source": [
    "# -*- coding: utf-8 -*-\n",
    "import math\n",
    "print \"Este programa deja elegir al usuario entre hacer una combinacion o una permutacion \\nposteriormente el resultado se dara en notacion cientifica\"\n",
    "print \"\\n\\nSea Q el resultado:\\n Si Q>10^5, el programa dira mayor. \\n Si 10^3<Q<10^5 dira en medio. \\n Si Q<10^3 dira menor.\"\n",
    "raw_input(\"Presione una tecla para continuar...\")\n",
    "print \"Oprima C para combinacion o P para permutacion, el caso por defecto es permutacion\"\n",
    "o=raw_input().upper()\n",
    "if o=='C':\n",
    "    print \"Usted eligio combinatoria, se le solicitara que diga la N y la R\"\n",
    "    print \"Ingrese la N\"\n",
    "    N=int(input())\n",
    "    print \"Ingrese la R\"\n",
    "    R=int(input())\n",
    "    print math.factorial(N)\n",
    "    Q=(math.factorial(N))/(math.factorial((N-R))*math.factorial(R))\n",
    "else:\n",
    "    print \"Ustede eligio permutacion, se le solicitara que ingrese N y R\"\n",
    "    print \"Ingrese la N\"\n",
    "    N=int(input())\n",
    "    print \"Ingrese la R\"\n",
    "    R=int(input())\n",
    "    Q=(math.factorial(N))/(math.factorial((N-R)))\n",
    "print \"Q =\",Q\n",
    "if Q>10**5:\n",
    "    print \"Mayor\"\n",
    "elif Q<10**5 and Q>10**3:\n",
    "    print \"Medio\"\n",
    "else:\n",
    "    print \"Menor\"\n",
    "raw_input()\n"
   ]
  }
 ],
 "metadata": {
  "kernelspec": {
   "display_name": "Python 2",
   "language": "python",
   "name": "python2"
  },
  "language_info": {
   "codemirror_mode": {
    "name": "ipython",
    "version": 2
   },
   "file_extension": ".py",
   "mimetype": "text/x-python",
   "name": "python",
   "nbconvert_exporter": "python",
   "pygments_lexer": "ipython2",
   "version": "2.7.13"
  }
 },
 "nbformat": 4,
 "nbformat_minor": 2
}
