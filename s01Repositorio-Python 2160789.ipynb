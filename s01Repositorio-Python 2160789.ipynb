{
 "cells": [
  {
   "cell_type": "code",
   "execution_count": 1,
   "metadata": {
    "collapsed": false,
    "deletable": true,
    "editable": true,
    "slideshow": {
     "slide_type": "skip"
    }
   },
   "outputs": [
    {
     "data": {
      "application/json": {
       "cell": {
        "!": "OSMagics",
        "HTML": "Other",
        "SVG": "Other",
        "bash": "Other",
        "capture": "ExecutionMagics",
        "debug": "ExecutionMagics",
        "file": "Other",
        "html": "DisplayMagics",
        "javascript": "DisplayMagics",
        "js": "DisplayMagics",
        "latex": "DisplayMagics",
        "perl": "Other",
        "prun": "ExecutionMagics",
        "pypy": "Other",
        "python": "Other",
        "python2": "Other",
        "python3": "Other",
        "ruby": "Other",
        "script": "ScriptMagics",
        "sh": "Other",
        "svg": "DisplayMagics",
        "sx": "OSMagics",
        "system": "OSMagics",
        "time": "ExecutionMagics",
        "timeit": "ExecutionMagics",
        "writefile": "OSMagics"
       },
       "line": {
        "alias": "OSMagics",
        "alias_magic": "BasicMagics",
        "autocall": "AutoMagics",
        "automagic": "AutoMagics",
        "autosave": "KernelMagics",
        "bookmark": "OSMagics",
        "cat": "Other",
        "cd": "OSMagics",
        "clear": "KernelMagics",
        "colors": "BasicMagics",
        "config": "ConfigMagics",
        "connect_info": "KernelMagics",
        "cp": "Other",
        "debug": "ExecutionMagics",
        "dhist": "OSMagics",
        "dirs": "OSMagics",
        "doctest_mode": "BasicMagics",
        "ed": "Other",
        "edit": "KernelMagics",
        "env": "OSMagics",
        "gui": "BasicMagics",
        "hist": "Other",
        "history": "HistoryMagics",
        "killbgscripts": "ScriptMagics",
        "ldir": "Other",
        "less": "KernelMagics",
        "lf": "Other",
        "lk": "Other",
        "ll": "Other",
        "load": "CodeMagics",
        "load_ext": "ExtensionMagics",
        "loadpy": "CodeMagics",
        "logoff": "LoggingMagics",
        "logon": "LoggingMagics",
        "logstart": "LoggingMagics",
        "logstate": "LoggingMagics",
        "logstop": "LoggingMagics",
        "ls": "Other",
        "lsmagic": "BasicMagics",
        "lx": "Other",
        "macro": "ExecutionMagics",
        "magic": "BasicMagics",
        "man": "KernelMagics",
        "matplotlib": "PylabMagics",
        "mkdir": "Other",
        "more": "KernelMagics",
        "mv": "Other",
        "notebook": "BasicMagics",
        "page": "BasicMagics",
        "pastebin": "CodeMagics",
        "pdb": "ExecutionMagics",
        "pdef": "NamespaceMagics",
        "pdoc": "NamespaceMagics",
        "pfile": "NamespaceMagics",
        "pinfo": "NamespaceMagics",
        "pinfo2": "NamespaceMagics",
        "popd": "OSMagics",
        "pprint": "BasicMagics",
        "precision": "BasicMagics",
        "profile": "BasicMagics",
        "prun": "ExecutionMagics",
        "psearch": "NamespaceMagics",
        "psource": "NamespaceMagics",
        "pushd": "OSMagics",
        "pwd": "OSMagics",
        "pycat": "OSMagics",
        "pylab": "PylabMagics",
        "qtconsole": "KernelMagics",
        "quickref": "BasicMagics",
        "recall": "HistoryMagics",
        "rehashx": "OSMagics",
        "reload_ext": "ExtensionMagics",
        "rep": "Other",
        "rerun": "HistoryMagics",
        "reset": "NamespaceMagics",
        "reset_selective": "NamespaceMagics",
        "rm": "Other",
        "rmdir": "Other",
        "run": "ExecutionMagics",
        "save": "CodeMagics",
        "sc": "OSMagics",
        "set_env": "OSMagics",
        "store": "StoreMagics",
        "sx": "OSMagics",
        "system": "OSMagics",
        "tb": "ExecutionMagics",
        "time": "ExecutionMagics",
        "timeit": "ExecutionMagics",
        "unalias": "OSMagics",
        "unload_ext": "ExtensionMagics",
        "who": "NamespaceMagics",
        "who_ls": "NamespaceMagics",
        "whos": "NamespaceMagics",
        "xdel": "NamespaceMagics",
        "xmode": "BasicMagics"
       }
      },
      "text/plain": [
       "Available line magics:\n",
       "%alias  %alias_magic  %autocall  %automagic  %autosave  %bookmark  %cat  %cd  %clear  %colors  %config  %connect_info  %cp  %debug  %dhist  %dirs  %doctest_mode  %ed  %edit  %env  %gui  %hist  %history  %killbgscripts  %ldir  %less  %lf  %lk  %ll  %load  %load_ext  %loadpy  %logoff  %logon  %logstart  %logstate  %logstop  %ls  %lsmagic  %lx  %macro  %magic  %man  %matplotlib  %mkdir  %more  %mv  %notebook  %page  %pastebin  %pdb  %pdef  %pdoc  %pfile  %pinfo  %pinfo2  %popd  %pprint  %precision  %profile  %prun  %psearch  %psource  %pushd  %pwd  %pycat  %pylab  %qtconsole  %quickref  %recall  %rehashx  %reload_ext  %rep  %rerun  %reset  %reset_selective  %rm  %rmdir  %run  %save  %sc  %set_env  %store  %sx  %system  %tb  %time  %timeit  %unalias  %unload_ext  %who  %who_ls  %whos  %xdel  %xmode\n",
       "\n",
       "Available cell magics:\n",
       "%%!  %%HTML  %%SVG  %%bash  %%capture  %%debug  %%file  %%html  %%javascript  %%js  %%latex  %%perl  %%prun  %%pypy  %%python  %%python2  %%python3  %%ruby  %%script  %%sh  %%svg  %%sx  %%system  %%time  %%timeit  %%writefile\n",
       "\n",
       "Automagic is ON, % prefix IS NOT needed for line magics."
      ]
     },
     "execution_count": 1,
     "metadata": {},
     "output_type": "execute_result"
    }
   ],
   "source": [
    "%lsmagic"
   ]
  },
  {
   "cell_type": "code",
   "execution_count": 2,
   "metadata": {
    "collapsed": false,
    "deletable": true,
    "editable": true,
    "slideshow": {
     "slide_type": "skip"
    }
   },
   "outputs": [
    {
     "name": "stdout",
     "output_type": "stream",
     "text": [
      "Fetching package metadata ...........\n",
      "Solving package specifications: .\n",
      "\n",
      "# All requested packages already installed.\n",
      "# packages in environment at /home/laura/anaconda2:\n",
      "#\n",
      "rise                      5.0.0                    py27_0    damianavila82\n"
     ]
    }
   ],
   "source": [
    "%%bash\n",
    "conda install -c damianavila82 rise"
   ]
  },
  {
   "cell_type": "code",
   "execution_count": 3,
   "metadata": {
    "collapsed": false,
    "deletable": true,
    "editable": true,
    "slideshow": {
     "slide_type": "skip"
    }
   },
   "outputs": [
    {
     "data": {
      "text/plain": [
       "{u'height': 480,\n",
       " u'leap_motion': {u'naturalSwipe': True,\n",
       "  u'pointerColor': '#d80000',\n",
       "  u'pointerOpacity': 0.5},\n",
       " u'scroll': True,\n",
       " u'start_slideshow_at': u'selected',\n",
       " u'theme': u'sky',\n",
       " u'transition': u'zoom',\n",
       " u'width': 640}"
      ]
     },
     "execution_count": 3,
     "metadata": {},
     "output_type": "execute_result"
    }
   ],
   "source": [
    "from traitlets.config.manager import BaseJSONConfigManager\n",
    "path = \"/home/laura/Anaconda/envs/rise_latest/etc/jupyter/nbconfig\"\n",
    "cm = BaseJSONConfigManager(config_dir=path)\n",
    "cm.update('livereveal', {\n",
    "              'theme': 'sky',\n",
    "              'transition': 'zoom',\n",
    "              'start_slideshow_at': 'selected',\n",
    "})\n",
    "cm.update('livereveal', {\n",
    "              'width': 640,\n",
    "              'height': 480,\n",
    "})\n",
    "cm.update('livereveal', {\n",
    "              'scroll': True,\n",
    "})\n",
    "cm.update('livereveal', {\n",
    "    'leap_motion': {\n",
    "        'naturalSwipe'  : True,     # Invert swipe gestures\n",
    "        'pointerOpacity': 0.5,      # Set pointer opacity to 0.5\n",
    "        'pointerColor'  : '#d80000',# Red pointer\n",
    "    }\n",
    "})"
   ]
  },
  {
   "cell_type": "markdown",
   "metadata": {
    "deletable": true,
    "editable": true,
    "slideshow": {
     "slide_type": "slide"
    }
   },
   "source": [
    "# Relatoria sobre primera clase de Python\n",
    "Laura Natalia Martínez Ramírez 2160789"
   ]
  },
  {
   "cell_type": "markdown",
   "metadata": {
    "deletable": true,
    "editable": true,
    "slideshow": {
     "slide_type": "slide"
    }
   },
   "source": [
    "# Instalación de plugins para mejorar Jupyter"
   ]
  },
  {
   "cell_type": "markdown",
   "metadata": {
    "deletable": true,
    "editable": true,
    "slideshow": {
     "slide_type": "fragment"
    }
   },
   "source": [
    "Los plugins permiten que el usuario controle en mayor grado el comportamiento y la apariencia de la aplicación. Permiten desde cargar archivos desde plataformas como Google Drive, mostrar el Notebook como diapositivas hasta agregar botones o atajos de teclado."
   ]
  },
  {
   "cell_type": "code",
   "execution_count": null,
   "metadata": {
    "collapsed": true,
    "deletable": true,
    "editable": true,
    "scrolled": true,
    "slideshow": {
     "slide_type": "skip"
    }
   },
   "outputs": [],
   "source": [
    "!pip install https://github.com/ipython-contrib/jupyter_contrib_nbextensions/tarball/master\n"
   ]
  },
  {
   "cell_type": "code",
   "execution_count": null,
   "metadata": {
    "collapsed": true,
    "deletable": true,
    "editable": true,
    "slideshow": {
     "slide_type": "skip"
    }
   },
   "outputs": [],
   "source": [
    "!pip install jupyter_nbextensions_configurator\n"
   ]
  },
  {
   "cell_type": "code",
   "execution_count": null,
   "metadata": {
    "collapsed": true,
    "deletable": true,
    "editable": true,
    "slideshow": {
     "slide_type": "skip"
    }
   },
   "outputs": [],
   "source": [
    "!pip install jupyter_nbextensions_configurator\n"
   ]
  },
  {
   "cell_type": "code",
   "execution_count": null,
   "metadata": {
    "collapsed": true,
    "deletable": true,
    "editable": true,
    "slideshow": {
     "slide_type": "skip"
    }
   },
   "outputs": [],
   "source": [
    "!jupyter nbextensions_configurator enable --user"
   ]
  },
  {
   "cell_type": "markdown",
   "metadata": {
    "deletable": true,
    "editable": true,
    "slideshow": {
     "slide_type": "slide"
    }
   },
   "source": [
    "# Paquete rise"
   ]
  },
  {
   "cell_type": "code",
   "execution_count": null,
   "metadata": {
    "collapsed": true,
    "deletable": true,
    "editable": true,
    "slideshow": {
     "slide_type": "fragment"
    }
   },
   "outputs": [],
   "source": [
    "!conda install -c damianavila82 rise\n"
   ]
  },
  {
   "cell_type": "markdown",
   "metadata": {
    "deletable": true,
    "editable": true,
    "slideshow": {
     "slide_type": "fragment"
    }
   },
   "source": [
    "<img src=\"../Repositorio/s01slide.png\" alt=\"slide\">"
   ]
  },
  {
   "cell_type": "markdown",
   "metadata": {
    "deletable": true,
    "editable": true,
    "slideshow": {
     "slide_type": "slide"
    }
   },
   "source": [
    "Al instalar el paquete rise, aparecerá disponible un nuevo botón (llamado \"Enter/Exit Live Reveal Slideshow\") en la barra de tareas que permite entrar o salir de la presentación en vivo de diapositivas. Para organizar dicha presentación, nos dirigimos al menú, a la opción View dentro de la cual encontramos Cell Toolbar el cual da acceso a los metadatos de cada celda. En este sub-menú está la opción Slide, con la cual se mostrará una pestaña en la esquina derecha superior de cada celda con la que podrá seleccionar el tipo de texto que dicha celda será dentro de la presentación: diapositiva, sub-diapositiva, fragmento, nota o incluso puede omitirlo."
   ]
  },
  {
   "cell_type": "markdown",
   "metadata": {
    "deletable": true,
    "editable": true,
    "slideshow": {
     "slide_type": "slide"
    }
   },
   "source": [
    "<img src=\"../Repositorio/s01pestaña.png\" alt=\"pestaña\">"
   ]
  },
  {
   "cell_type": "markdown",
   "metadata": {
    "deletable": true,
    "editable": true,
    "slideshow": {
     "slide_type": "slide"
    }
   },
   "source": [
    "# Introducción a Lenguajes de programación"
   ]
  },
  {
   "cell_type": "markdown",
   "metadata": {
    "deletable": true,
    "editable": true,
    "slideshow": {
     "slide_type": "fragment"
    }
   },
   "source": [
    "## Por José Roberto Herrera"
   ]
  },
  {
   "cell_type": "markdown",
   "metadata": {
    "deletable": true,
    "editable": true,
    "slideshow": {
     "slide_type": "fragment"
    }
   },
   "source": [
    "<img src=\"../Repositorio/s01Logouis.png\" alt=\"Logouis\">"
   ]
  },
  {
   "cell_type": "markdown",
   "metadata": {
    "deletable": true,
    "editable": true,
    "slideshow": {
     "slide_type": "slide"
    }
   },
   "source": [
    "# Lenguajes de programación"
   ]
  },
  {
   "cell_type": "markdown",
   "metadata": {
    "deletable": true,
    "editable": true,
    "slideshow": {
     "slide_type": "fragment"
    }
   },
   "source": [
    "Los computadores no entienden el lenguaje humano así que los programas deben escribirse en un lenguaje que el computador pueda utilizar. Está conformado esencialmente un conjunto de símbolos regidos bajo reglas sintácticas y semánticas que definen su estructura y bajo las cuales los atributos toman sentido. Hay cientos de lenguajes de programación y se desarrollan para hacer mas fácil el proceso de programación (en el cual se escribe, depura y compila un código fuente de un programa).\n",
    "Sin embargo todos los lenguajes deben ser convertidos en un lenguaje que el computador pueda entender.\n"
   ]
  },
  {
   "cell_type": "markdown",
   "metadata": {
    "deletable": true,
    "editable": true,
    "slideshow": {
     "slide_type": "slide"
    }
   },
   "source": [
    "## Lenguaje de máquina"
   ]
  },
  {
   "cell_type": "markdown",
   "metadata": {
    "deletable": true,
    "editable": true,
    "slideshow": {
     "slide_type": "fragment"
    }
   },
   "source": [
    "\"El lenguaje nativo de la máquina\" es diferente para cada tipo de computador, es un conjunto de instrucciones pre-fabricadas primitivas directamente interpretables por un circuito microprogramable.\n",
    "En los computadores que utilizamos estas instrucciones están dadas en lenguaje binario comprendido por los valores 0 y 1 con dos únicos niveles de tensión. La secuencia de dichos valores forman cadenas de información con intrucciones, por ejemplo para sumar los números 2 y 3 se tendría que escribir un código como este:\n"
   ]
  },
  {
   "cell_type": "markdown",
   "metadata": {
    "deletable": true,
    "editable": true,
    "slideshow": {
     "slide_type": "fragment"
    }
   },
   "source": [
    "1101101010011010"
   ]
  },
  {
   "cell_type": "markdown",
   "metadata": {
    "deletable": true,
    "editable": true,
    "slideshow": {
     "slide_type": "slide"
    }
   },
   "source": [
    "## Lenguaje Ensamblador (Assembler)"
   ]
  },
  {
   "cell_type": "markdown",
   "metadata": {
    "deletable": true,
    "editable": true,
    "slideshow": {
     "slide_type": "fragment"
    }
   },
   "source": [
    "Como programar en el lenguaje de la máquina es un proceso tedioso y los programas son difíciles de leer y modificar se creó el lenguaje *Assembly* que utiliza palabras descriptivas cortas. Está diseñado para cierto tipo de computadores, a diferencia de los lenguajes de alto nivel en los que no se necesita conocer la arquitectura del computador, en Assembler se programa de determinada manera para una familia específica de microprocesadores.\n",
    "Esencialmente, se pasó de ordenes en digitos a palabras claves, por ejemplo para sumar los números 2 y 3 se utiliza la pablabra *add* y la palabra *result* para mostrar los resultados."
   ]
  },
  {
   "cell_type": "markdown",
   "metadata": {
    "deletable": true,
    "editable": true,
    "slideshow": {
     "slide_type": "slide"
    }
   },
   "source": [
    "add 2, 3, result"
   ]
  },
  {
   "cell_type": "markdown",
   "metadata": {
    "deletable": true,
    "editable": true,
    "slideshow": {
     "slide_type": "fragment"
    }
   },
   "source": [
    "<img src=\"../Repositorio/s01Assembler.png\" alt=\"Assembler\">"
   ]
  },
  {
   "cell_type": "markdown",
   "metadata": {
    "deletable": true,
    "editable": true,
    "slideshow": {
     "slide_type": "slide"
    }
   },
   "source": [
    "Escribir código en *Assembly* es más facil que el lenguaje de máquina pero sigue siendo tedioso, un lenguaje como este se refiere comunmente a *lenguaje de bajo nivel (low-level language)*.\n",
    "Un lenguaje de programación de bajo nivel es aquel en el que sus instrucciones ejercen un control directo sobre el hardware y están condicionados por la estructura física de las computadoras que lo soportan. El término bajo nivel se refiere a la reducida abstracción entre el lenguaje y el hardware. \n",
    "Este lenguaje funciona en mayor medida gracias a un proceso de instrucciones muy elaborado, por lo que es un tipo de lenguaje que revisa hasta el más mínimo detalle."
   ]
  },
  {
   "cell_type": "markdown",
   "metadata": {
    "deletable": true,
    "editable": true,
    "slideshow": {
     "slide_type": "slide"
    }
   },
   "source": [
    "# Lenguajes de alto nivel"
   ]
  },
  {
   "cell_type": "markdown",
   "metadata": {
    "deletable": true,
    "editable": true,
    "slideshow": {
     "slide_type": "fragment"
    }
   },
   "source": [
    "Con los anteriores lenguaje, habian un gran limitación:se orientaban a un área específica y sus instrucciones requerían de una sintaxis predefinida, es decir poco accesible para una persona común.  Por esto, en los 50's empezó una nueva generación de lenguajes conocidos como *high-level languages*, son independientes de plataformas, lo que quiere decir que se pueden escribir y correr en cualquier tipo de máquina. Se caracteriza por expresar el algoritmo de una forma más acorde a la capacidad cognitiva humana, por eso se escriben en códigos con palabras clave en inglés y son mucho más sencillos de aprender que el lenguaje de máquina.\n",
    "\n",
    "En estos lenguajes se acude a las variables, matrices, objetos, aritmética compleja o expresiones booleanas, subrutinas y funciones, bucles, hilos, cierres y otros conceptos de informática abstracta. Las instrucciones se llaman statement o declaraciones, un ejemplo de esto se puede hacer aquí! directamente en python sumando el número 2 y 3.\n",
    "\n"
   ]
  },
  {
   "cell_type": "code",
   "execution_count": 4,
   "metadata": {
    "collapsed": false,
    "deletable": true,
    "editable": true,
    "slideshow": {
     "slide_type": "slide"
    }
   },
   "outputs": [
    {
     "data": {
      "text/plain": [
       "5"
      ]
     },
     "execution_count": 4,
     "metadata": {},
     "output_type": "execute_result"
    }
   ],
   "source": [
    "2 + 3"
   ]
  },
  {
   "cell_type": "markdown",
   "metadata": {
    "deletable": true,
    "editable": true,
    "slideshow": {
     "slide_type": "slide"
    }
   },
   "source": [
    "Un ejemplo en otro lenguaje como c++ sería:\n",
    "\n",
    "\n"
   ]
  },
  {
   "cell_type": "code",
   "execution_count": null,
   "metadata": {
    "collapsed": true,
    "deletable": true,
    "editable": true,
    "slideshow": {
     "slide_type": "fragment"
    }
   },
   "outputs": [],
   "source": [
    "#include <iostream>\n",
    "using namespace std;\n",
    "\n",
    "int main()\n",
    "{\n",
    "    int firstNumber, secondNumber, sumOfTwoNumbers;\n",
    "    \n",
    "    cout << \"Enter two integers: \";\n",
    "    cin >> firstNumber >> secondNumber;\n",
    "\n",
    "    // sum of two numbers in stored in variable sumOfTwoNumbers\n",
    "    sumOfTwoNumbers = firstNumber + secondNumber;\n",
    "\n",
    "    // Prints sum \n",
    "    cout << firstNumber << \" + \" <<  secondNumber << \" = \" << sumOfTwoNumbers;     \n",
    "\n",
    "    return 0;\n",
    "}"
   ]
  },
  {
   "cell_type": "markdown",
   "metadata": {
    "deletable": true,
    "editable": true,
    "slideshow": {
     "slide_type": "slide"
    }
   },
   "source": [
    "Algunos lengujes de programación són:\n",
    "\n",
    "* C: de nivel medio, es apreciado por la eficiencia del código que produce y es el lenguaje de programación más popular para crear software de sistemas, aunque también se utiliza para crear aplicaciones.\n",
    "* C++:fue creado para extender mecanismos que permiten la manipulación de objetos al lenguaje de programación C. C++ es un lenguaje híbrido y se suele decir que es un lenguaje de programación multiparadigma.\n",
    "\n"
   ]
  },
  {
   "cell_type": "markdown",
   "metadata": {
    "deletable": true,
    "editable": true,
    "slideshow": {
     "slide_type": "slide"
    }
   },
   "source": [
    "* FORTRAN: (The IBM Mathematical Formula Translating System) es un lenguaje de programación de alto nivel especialmente adaptado al cálculo numérico y a la computación científica. Usado en áreas de cómputo intensivo, es uno de los lenguajes más populares en el área de la computación de alto rendimiento."
   ]
  },
  {
   "cell_type": "markdown",
   "metadata": {
    "deletable": true,
    "editable": true,
    "slideshow": {
     "slide_type": "slide"
    }
   },
   "source": [
    "* Java: es un lenguaje de programación de propósito general orientado a objetos. Su intención es permitir que los desarrolladores de aplicaciones escriban el programa una vez y lo ejecuten en cualquier dispositivo. Es uno de los lenguajes de programación más populares en uso, particularmente para aplicaciones de cliente-servidor de web.Su sintaxis deriva en gran medida de C y C++, pero tiene menos utilidades de bajo nivel que cualquiera de ellos.  \n",
    "* Visual Basic, COBOL, C#, Ada, BASIC"
   ]
  },
  {
   "cell_type": "markdown",
   "metadata": {
    "deletable": true,
    "editable": true,
    "slideshow": {
     "slide_type": "slide"
    }
   },
   "source": [
    "<img src=\"../Repositorio/s01Interpreter-Compiler.png\" alt=\"Interpreter-Compiler\">"
   ]
  },
  {
   "cell_type": "markdown",
   "metadata": {
    "collapsed": true,
    "deletable": true,
    "editable": true,
    "slideshow": {
     "slide_type": "slide"
    }
   },
   "source": [
    "## ¿Qué es Python?"
   ]
  },
  {
   "cell_type": "markdown",
   "metadata": {
    "deletable": true,
    "editable": true,
    "slideshow": {
     "slide_type": "fragment"
    }
   },
   "source": [
    "<img src=\"../Repositorio/s01python.png\" alt=\"Python\">"
   ]
  },
  {
   "cell_type": "markdown",
   "metadata": {
    "deletable": true,
    "editable": true,
    "slideshow": {
     "slide_type": "fragment"
    }
   },
   "source": [
    "Python es un lenguaje de programación interpretado cuya filosofía hace hincapié en una sintaxis que favorezca un código legible. Se trata de un lenguaje multiparadigma, ya que soporta orientación a objetos, programación imperativa y, en menor medida, programación funcional. "
   ]
  },
  {
   "cell_type": "markdown",
   "metadata": {
    "deletable": true,
    "editable": true,
    "slideshow": {
     "slide_type": "slide"
    }
   },
   "source": [
    "* Lenguaje de programación dinámico, interpretado, multiplataforma y fácil de aprender\n",
    "* Creado por Guido van Rossum en 1990 y fue llamado por el famoso *Monty Python’s Flying Circus*, no la serpiente.\n",
    "* Ampliamente utilizado en ciencia e ingeniería\n",
    "* Multitud de bibliotecas"
   ]
  },
  {
   "cell_type": "markdown",
   "metadata": {
    "deletable": true,
    "editable": true,
    "slideshow": {
     "slide_type": "slide"
    }
   },
   "source": [
    "## ¿Por qué Python?\n",
    "Python es un lenguaje que todo el mundo debería conocer. Su sintaxis simple, clara y sencilla; el tipado dinámico, el gestor de memoria, la gran cantidad de librerías disponibles y la potencia del lenguaje, entre otros, hacen que desarrollar una aplicación en Python sea sencillo, muy rápido y, lo que es más importante, divertido. Por este\n",
    "motivo se trata además de uno de los mejores lenguajes para comenzar a programar."
   ]
  },
  {
   "cell_type": "markdown",
   "metadata": {
    "collapsed": true,
    "deletable": true,
    "editable": true,
    "slideshow": {
     "slide_type": "slide"
    }
   },
   "source": [
    "## El zen de Python"
   ]
  },
  {
   "cell_type": "markdown",
   "metadata": {
    "deletable": true,
    "editable": true,
    "slideshow": {
     "slide_type": "fragment"
    }
   },
   "source": [
    "El código que sigue los principios de Python de legibilidad y transparencia se dice que es \"pythonico\". Contrariamente, el código opaco u ofuscado es bautizado como \"no pythonico\". Estos principios fueron famosamente descritos por el desarrollador de Python Tim Peters en El Zen de Python. Se muestra al ejecutar *import this*."
   ]
  },
  {
   "cell_type": "code",
   "execution_count": null,
   "metadata": {
    "collapsed": true,
    "deletable": true,
    "editable": true,
    "scrolled": true,
    "slideshow": {
     "slide_type": "fragment"
    }
   },
   "outputs": [],
   "source": [
    "import this"
   ]
  },
  {
   "cell_type": "markdown",
   "metadata": {
    "deletable": true,
    "editable": true,
    "slideshow": {
     "slide_type": "slide"
    }
   },
   "source": [
    "## Contacto con el notebook de IPython"
   ]
  },
  {
   "cell_type": "markdown",
   "metadata": {
    "deletable": true,
    "editable": true,
    "slideshow": {
     "slide_type": "fragment"
    }
   },
   "source": [
    "Existen dos formas de ejecutar código Python. Podemos escribir líneas de código en el intérprete y obtener una respuesta del intérprete para cada línea (sesión interactiva) o bien podemos escribir el código de un programa en un archivo de texto y ejecutarlo.\n",
    "Durante este curso utilizaremos el notebook de IPython para trabajar, exponer, presentar, etc. Pero el desarrollo lo haremos preferiblemente en Spyder. IPython no es más que un intérprete de Python con algunas mejoras sustanciales, pero además su interfaz notebook es más cómoda de manejar que la línea de comandos y nos da un poco más de flexibilidad.\n"
   ]
  },
  {
   "cell_type": "markdown",
   "metadata": {
    "deletable": true,
    "editable": true,
    "slideshow": {
     "slide_type": "slide"
    }
   },
   "source": [
    "\n",
    "iPython cuenta con características añadidas muy interesantes, como el autocompletado o el operador ?. La función de autocompletado se lanza pulsando el tabulador. Si escribimos fi y pulsamos Tab nos mostrará una lista de los objetos\n",
    "que comienzan con fi ( file , filter y finally ). Si escribimos file. y pulsamos Tab nos mostrará una lista de los métodos y propiedades del objeto file. El operador ? nos muestra información sobre los objetos. Se utiliza\n",
    "añadiendo el símbolo de interrogación al final del nombre del objeto del cual queremos más información. Por ejemplo:"
   ]
  },
  {
   "cell_type": "code",
   "execution_count": null,
   "metadata": {
    "collapsed": true,
    "deletable": true,
    "editable": true,
    "slideshow": {
     "slide_type": "slide"
    }
   },
   "outputs": [],
   "source": [
    "str?"
   ]
  },
  {
   "cell_type": "markdown",
   "metadata": {
    "deletable": true,
    "editable": true,
    "slideshow": {
     "slide_type": "fragment"
    }
   },
   "source": [
    "<img src=\"../Repositorio/s01string.png\" alt=\"string\">"
   ]
  },
  {
   "cell_type": "markdown",
   "metadata": {
    "deletable": true,
    "editable": true,
    "slideshow": {
     "slide_type": "slide"
    }
   },
   "source": [
    "## Print\n",
    "\n",
    "El comando print es de gran utilidad para que el programa pueda comunicarse con nosotros. Este comando muestra el texto que pongamos, o incluso el valor que hay dentro de una variable."
   ]
  },
  {
   "cell_type": "code",
   "execution_count": 5,
   "metadata": {
    "collapsed": false,
    "deletable": true,
    "editable": true,
    "scrolled": true,
    "slideshow": {
     "slide_type": "fragment"
    }
   },
   "outputs": [
    {
     "name": "stdout",
     "output_type": "stream",
     "text": [
      "Welcome to Python\n"
     ]
    }
   ],
   "source": [
    "print(\"Welcome to Python\")"
   ]
  },
  {
   "cell_type": "markdown",
   "metadata": {
    "deletable": true,
    "editable": true,
    "slideshow": {
     "slide_type": "fragment"
    }
   },
   "source": [
    "<div class=\"alert alert-info\"><strong>Nota:</strong> Esta es la manera de llamar funciones en Python: los argumentos se encierran entre paréntesis y se separan por comas. Se hace de esta manera en otros lenguajes de programación.</div>"
   ]
  },
  {
   "cell_type": "code",
   "execution_count": 6,
   "metadata": {
    "collapsed": false,
    "deletable": true,
    "editable": true,
    "slideshow": {
     "slide_type": "slide"
    }
   },
   "outputs": [
    {
     "name": "stdout",
     "output_type": "stream",
     "text": [
      "Welcome to Python\n"
     ]
    }
   ],
   "source": [
    "print \"Welcome to Python\""
   ]
  },
  {
   "cell_type": "markdown",
   "metadata": {
    "deletable": true,
    "editable": true,
    "slideshow": {
     "slide_type": "slide"
    }
   },
   "source": [
    "## Tipos básicos:\n",
    "\n",
    "* Números que pueden ser: enteros (3), flotantes (15.57) o complejos (7 + 5j)\n",
    "* String o cadena de caracteres, como “Hola Mundo”, se refiere al símbolo ascii, incluyendo los números.\n",
    "* Valores booleanos: True (cierto) y False (falso).\n"
   ]
  },
  {
   "cell_type": "markdown",
   "metadata": {
    "deletable": true,
    "editable": true,
    "slideshow": {
     "slide_type": "fragment"
    }
   },
   "source": [
    "Puede comprobarse con la función type."
   ]
  },
  {
   "cell_type": "code",
   "execution_count": 7,
   "metadata": {
    "collapsed": false,
    "deletable": true,
    "editable": true,
    "slideshow": {
     "slide_type": "slide"
    }
   },
   "outputs": [
    {
     "name": "stdout",
     "output_type": "stream",
     "text": [
      "<type 'str'>\n",
      "<type 'int'>\n",
      "<type 'float'>\n"
     ]
    }
   ],
   "source": [
    "print type('si')\n",
    "print type (45)\n",
    "print type (23.)"
   ]
  },
  {
   "cell_type": "code",
   "execution_count": 8,
   "metadata": {
    "collapsed": false,
    "deletable": true,
    "editable": true,
    "slideshow": {
     "slide_type": "slide"
    }
   },
   "outputs": [
    {
     "data": {
      "text/plain": [
       "'25+4'"
      ]
     },
     "execution_count": 8,
     "metadata": {},
     "output_type": "execute_result"
    }
   ],
   "source": [
    "\"25+4\""
   ]
  },
  {
   "cell_type": "code",
   "execution_count": 9,
   "metadata": {
    "collapsed": false,
    "deletable": true,
    "editable": true,
    "scrolled": true,
    "slideshow": {
     "slide_type": "fragment"
    }
   },
   "outputs": [
    {
     "ename": "TypeError",
     "evalue": "cannot concatenate 'str' and 'int' objects",
     "output_type": "error",
     "traceback": [
      "\u001b[0;31m---------------------------------------------------------------------------\u001b[0m",
      "\u001b[0;31mTypeError\u001b[0m                                 Traceback (most recent call last)",
      "\u001b[0;32m<ipython-input-9-a805388c83fa>\u001b[0m in \u001b[0;36m<module>\u001b[0;34m()\u001b[0m\n\u001b[1;32m      1\u001b[0m \u001b[0;36m25\u001b[0m\u001b[0;34m+\u001b[0m\u001b[0;36m4\u001b[0m\u001b[0;34m\u001b[0m\u001b[0m\n\u001b[0;32m----> 2\u001b[0;31m \u001b[0;34m'25'\u001b[0m\u001b[0;34m+\u001b[0m\u001b[0;36m4\u001b[0m\u001b[0;34m\u001b[0m\u001b[0m\n\u001b[0m",
      "\u001b[0;31mTypeError\u001b[0m: cannot concatenate 'str' and 'int' objects"
     ]
    }
   ],
   "source": [
    "25+4\n",
    "'25'+4"
   ]
  },
  {
   "cell_type": "markdown",
   "metadata": {
    "deletable": true,
    "editable": true,
    "slideshow": {
     "slide_type": "fragment"
    }
   },
   "source": [
    "<div class=\"alert alert-info\">Más adelante veremos cómo tratar estos errores. Por otro lado, cuando usemos NumPy esta operación devolverá `NaN`.</div>"
   ]
  },
  {
   "cell_type": "markdown",
   "metadata": {
    "deletable": true,
    "editable": true,
    "slideshow": {
     "slide_type": "slide"
    }
   },
   "source": [
    "Si se suman string, en realidad se concatenan, es decir que situa el segundo término inmediatamente después del primero."
   ]
  },
  {
   "cell_type": "code",
   "execution_count": 10,
   "metadata": {
    "collapsed": false,
    "deletable": true,
    "editable": true,
    "slideshow": {
     "slide_type": "fragment"
    }
   },
   "outputs": [
    {
     "data": {
      "text/plain": [
       "'254'"
      ]
     },
     "execution_count": 10,
     "metadata": {},
     "output_type": "execute_result"
    }
   ],
   "source": [
    "'25'+'4' "
   ]
  },
  {
   "cell_type": "markdown",
   "metadata": {
    "deletable": true,
    "editable": true,
    "slideshow": {
     "slide_type": "slide"
    }
   },
   "source": [
    "# Comentarios"
   ]
  },
  {
   "cell_type": "markdown",
   "metadata": {
    "deletable": true,
    "editable": true,
    "slideshow": {
     "slide_type": "fragment"
    }
   },
   "source": [
    "Los comentarios en Python, al igual que sucede en otros lenguajes de programación, sirven para explicar a las personas que puedan leer el programa en el futuro, qué es lo que hace el programa, así como explicar algunas partes del código. Comentario se comienza por # y es ignorado en el código. \n",
    "\n",
    "En python los comentarios se pueden poner de dos formas:\n"
   ]
  },
  {
   "cell_type": "code",
   "execution_count": 11,
   "metadata": {
    "collapsed": false,
    "deletable": true,
    "editable": true,
    "slideshow": {
     "slide_type": "slide"
    }
   },
   "outputs": [
    {
     "data": {
      "text/plain": [
       "5"
      ]
     },
     "execution_count": 11,
     "metadata": {},
     "output_type": "execute_result"
    }
   ],
   "source": [
    "# Este es un comentario\n",
    "2 + 3 # Este es otro comentario\n",
    "\n",
    "  "
   ]
  },
  {
   "cell_type": "code",
   "execution_count": 12,
   "metadata": {
    "collapsed": false,
    "deletable": true,
    "editable": true,
    "slideshow": {
     "slide_type": "fragment"
    }
   },
   "outputs": [
    {
     "data": {
      "text/plain": [
       "'  Este es       un\\nmuy     gran \\ncomentario\\n5+6\\nQue lastimosamente no funciona en ipython\\n'"
      ]
     },
     "execution_count": 12,
     "metadata": {},
     "output_type": "execute_result"
    }
   ],
   "source": [
    "\"\"\"  Este es       un\n",
    "muy     gran \n",
    "comentario\n",
    "5+6\n",
    "Que lastimosamente no funciona en ipython\n",
    "\"\"\""
   ]
  },
  {
   "cell_type": "markdown",
   "metadata": {
    "deletable": true,
    "editable": true,
    "slideshow": {
     "slide_type": "slide"
    }
   },
   "source": [
    "# Estilo de programación y Documentación"
   ]
  },
  {
   "cell_type": "markdown",
   "metadata": {
    "deletable": true,
    "editable": true,
    "slideshow": {
     "slide_type": "fragment"
    }
   },
   "source": [
    "El *estilo* es como luce el programa, cuando se crean programas un estilo profesional no solo se ejecutan bien sino que la gente los puede leer y entender; lo cual es importante si se quiere que alguien lo pueda acceder o modificar. Es un término que describe convenciones para escribir código fuente en ciertos lenguajes de programación."
   ]
  },
  {
   "cell_type": "markdown",
   "metadata": {
    "deletable": true,
    "editable": true,
    "slideshow": {
     "slide_type": "slide"
    }
   },
   "source": [
    "Algunas caracteristicas son:\n",
    "* Nombre de las variables: Permiten una mejor compresión de la función del código y el tipo de datos manejado.\n",
    "* Indentación: Significa mover un bloque hacia la derecha con espacios o tabuladores. Permiten indicar donde inicia y termina un código.\n",
    "* El uso de estructuras de control lógicas para bucles.\n",
    "* Espaciado"
   ]
  },
  {
   "cell_type": "markdown",
   "metadata": {
    "deletable": true,
    "editable": true,
    "slideshow": {
     "slide_type": "slide"
    }
   },
   "source": [
    "La documentación es el cuerpo de la explicación inicial y comentarios del programa, se explican varias partes del programa y ayuda a otros a entender la estructura y su función. Documentar un programa es además una necesidad que sólo se aprecia en su debida magnitud cuando hay errores que reparar o hay que extender el programa con nuevas capacidades o adaptarlo a un nuevo escenario. Hay dos reglas que no se deben olvidar nunca:\n",
    "\n",
    "*Todos los programas tienen errores y descubrirlos sólo es cuestión de tiempo y de que el programa tenga éxito y se utilice frecuentemente.\n",
    "*Todos los programas sufren modificaciones a lo largo de su vida, al menos todos aquellos que tienen éxito \n",
    "\n",
    "Pensando en esta revisión de código es por lo que es importante que el programa se entienda: para poder repararlo y modificarlo. "
   ]
  },
  {
   "cell_type": "markdown",
   "metadata": {
    "deletable": true,
    "editable": true,
    "slideshow": {
     "slide_type": "slide"
    }
   },
   "source": [
    "Se debe incluir\n",
    "* Un resumen al inicio del programa que explique lo que hace el programa, sus características clave y cualquier técnica única que utilice.\n",
    "* Comentarios para cualquier paso grande y explicar cualquier línea que sea difícil de leer.\n",
    "* Es importante hacer comentarios concisos que no saturen el programa o lo hagan difícil de leer."
   ]
  },
  {
   "cell_type": "markdown",
   "metadata": {
    "deletable": true,
    "editable": true,
    "slideshow": {
     "slide_type": "slide"
    }
   },
   "source": [
    "## Espaciado apropiado"
   ]
  },
  {
   "cell_type": "code",
   "execution_count": 13,
   "metadata": {
    "collapsed": false,
    "deletable": true,
    "editable": true,
    "slideshow": {
     "slide_type": "fragment"
    }
   },
   "outputs": [
    {
     "name": "stdout",
     "output_type": "stream",
     "text": [
      "19\n"
     ]
    }
   ],
   "source": [
    "print(3+4*4)"
   ]
  },
  {
   "cell_type": "code",
   "execution_count": 14,
   "metadata": {
    "collapsed": false,
    "deletable": true,
    "editable": true,
    "slideshow": {
     "slide_type": "fragment"
    }
   },
   "outputs": [
    {
     "name": "stdout",
     "output_type": "stream",
     "text": [
      "19\n"
     ]
    }
   ],
   "source": [
    "print(3 + 4 * 4)"
   ]
  },
  {
   "cell_type": "markdown",
   "metadata": {
    "deletable": true,
    "editable": true,
    "slideshow": {
     "slide_type": "slide"
    }
   },
   "source": [
    "## Errores de sintaxis "
   ]
  },
  {
   "cell_type": "markdown",
   "metadata": {
    "deletable": true,
    "editable": true,
    "slideshow": {
     "slide_type": "fragment"
    }
   },
   "source": [
    "Son producidos por el código en construcción, como escribir mal un *statement* (declaración), tener un mal indexado, son fáciles de leer pues python informa donde están y que los causó."
   ]
  },
  {
   "cell_type": "code",
   "execution_count": 15,
   "metadata": {
    "collapsed": false,
    "deletable": true,
    "editable": true,
    "scrolled": true,
    "slideshow": {
     "slide_type": "fragment"
    }
   },
   "outputs": [
    {
     "ename": "SyntaxError",
     "evalue": "EOL while scanning string literal (<ipython-input-15-54b3f376a52b>, line 1)",
     "output_type": "error",
     "traceback": [
      "\u001b[0;36m  File \u001b[0;32m\"<ipython-input-15-54b3f376a52b>\"\u001b[0;36m, line \u001b[0;32m1\u001b[0m\n\u001b[0;31m    print(\"programar es divertido)\u001b[0m\n\u001b[0m                                 ^\u001b[0m\n\u001b[0;31mSyntaxError\u001b[0m\u001b[0;31m:\u001b[0m EOL while scanning string literal\n"
     ]
    }
   ],
   "source": [
    "print(\"programar es divertido)"
   ]
  },
  {
   "cell_type": "code",
   "execution_count": 16,
   "metadata": {
    "collapsed": false,
    "deletable": true,
    "editable": true,
    "scrolled": true,
    "slideshow": {
     "slide_type": "slide"
    }
   },
   "outputs": [
    {
     "ename": "IndentationError",
     "evalue": "unexpected indent (<ipython-input-16-fd9cfe6f2c71>, line 2)",
     "output_type": "error",
     "traceback": [
      "\u001b[0;36m  File \u001b[0;32m\"<ipython-input-16-fd9cfe6f2c71>\"\u001b[0;36m, line \u001b[0;32m2\u001b[0m\n\u001b[0;31m    print(\"programar es divertido\")\u001b[0m\n\u001b[0m    ^\u001b[0m\n\u001b[0;31mIndentationError\u001b[0m\u001b[0;31m:\u001b[0m unexpected indent\n"
     ]
    }
   ],
   "source": [
    "print(\"programar es divertido\")\n",
    " print(\"programar es divertido\")"
   ]
  },
  {
   "cell_type": "markdown",
   "metadata": {
    "deletable": true,
    "editable": true,
    "slideshow": {
     "slide_type": "slide"
    }
   },
   "source": [
    "## Errores de Ejecución"
   ]
  },
  {
   "cell_type": "markdown",
   "metadata": {
    "deletable": true,
    "editable": true,
    "slideshow": {
     "slide_type": "fragment"
    }
   },
   "source": [
    "Son los que causan que un programa de forma anormal, ocurren mientras el programa se ejecuta y Python detecta un error en una operación que es imposible de ejecutar.\n",
    "Cuando el intérprete se encuentra con una situación excepcional, como el intentar dividir un número entre 0 o el intentar acceder a un archivo que no existe, este genera o lanza una excepción, informando al usuario de que existe algún problema.\n",
    "Si la excepción no se captura el flujo de ejecución se interrumpe y se muestra la información asociada a la excepción en la consola de forma que el programador pueda solucionar el problema."
   ]
  },
  {
   "cell_type": "code",
   "execution_count": 17,
   "metadata": {
    "collapsed": false,
    "deletable": true,
    "editable": true,
    "scrolled": true,
    "slideshow": {
     "slide_type": "slide"
    }
   },
   "outputs": [
    {
     "ename": "ZeroDivisionError",
     "evalue": "integer division or modulo by zero",
     "output_type": "error",
     "traceback": [
      "\u001b[0;31m---------------------------------------------------------------------------\u001b[0m",
      "\u001b[0;31mZeroDivisionError\u001b[0m                         Traceback (most recent call last)",
      "\u001b[0;32m<ipython-input-17-05c9758a9c21>\u001b[0m in \u001b[0;36m<module>\u001b[0;34m()\u001b[0m\n\u001b[0;32m----> 1\u001b[0;31m \u001b[0;36m1\u001b[0m\u001b[0;34m/\u001b[0m\u001b[0;36m0\u001b[0m\u001b[0;34m\u001b[0m\u001b[0m\n\u001b[0m",
      "\u001b[0;31mZeroDivisionError\u001b[0m: integer division or modulo by zero"
     ]
    }
   ],
   "source": [
    "1/0"
   ]
  },
  {
   "cell_type": "markdown",
   "metadata": {
    "deletable": true,
    "editable": true,
    "slideshow": {
     "slide_type": "slide"
    }
   },
   "source": [
    "## Errores lógicos"
   ]
  },
  {
   "cell_type": "markdown",
   "metadata": {
    "deletable": true,
    "editable": true,
    "slideshow": {
     "slide_type": "fragment"
    }
   },
   "source": [
    "Ocurren cuando un programa se comporta de una forma en la que no está pensado, estos errores pueden ocurrir por varias razones. "
   ]
  },
  {
   "cell_type": "code",
   "execution_count": 18,
   "metadata": {
    "collapsed": false,
    "deletable": true,
    "editable": true,
    "scrolled": true,
    "slideshow": {
     "slide_type": "fragment"
    }
   },
   "outputs": [
    {
     "name": "stdout",
     "output_type": "stream",
     "text": [
      "35 Fahrenheit es en Celcius: \n",
      "1.66666666667\n"
     ]
    }
   ],
   "source": [
    "# Convertir Fahrenheit a Celcius\n",
    "print(\"35 Fahrenheit es en Celcius: \")\n",
    "print(5. / 9* (35 - 32))"
   ]
  },
  {
   "cell_type": "markdown",
   "metadata": {
    "collapsed": true,
    "deletable": true,
    "editable": true,
    "slideshow": {
     "slide_type": "slide"
    }
   },
   "source": [
    "Python muestra el tipo específico de error encontrado. Algunos tipos de errores:\n",
    "* BaseException\n",
    "* Exception(BaseException) \n",
    "* GeneratorExit(Exception) \n",
    "* StandarError(Exception) \n",
    "* ArithmeticError(StandardError)\n",
    "* FloatingPointError(ArithmeticError)\n",
    "* OverflowError(ArithmeticError)\n",
    "* ZeroDivisionError(ArithmeticError)\n",
    "* ImportError(StandardError) \n",
    "* IndexError(LookupError)\n",
    "* MemoryError(StandardError) \n",
    "* NameError(StandardError) \n"
   ]
  },
  {
   "cell_type": "markdown",
   "metadata": {
    "deletable": true,
    "editable": true,
    "slideshow": {
     "slide_type": "slide"
    }
   },
   "source": [
    "# Actividades Complementarias"
   ]
  },
  {
   "cell_type": "markdown",
   "metadata": {
    "deletable": true,
    "editable": true,
    "slideshow": {
     "slide_type": "fragment"
    }
   },
   "source": [
    "### Escriba un programa que muestre la siguiente tabla:\n",
    "\n",
    "| a    | a^2  | a^3  |\n",
    "|------|------|------|\n",
    "|   1  |  1   |  1   |\n",
    "|   2  |  4   |  8   |\n",
    "|   3  |  9   |  27  |\n",
    "|   4  |  16  | 64   |"
   ]
  },
  {
   "cell_type": "markdown",
   "metadata": {
    "deletable": true,
    "editable": true,
    "slideshow": {
     "slide_type": "slide"
    }
   },
   "source": [
    "### Soluciones:"
   ]
  },
  {
   "cell_type": "markdown",
   "metadata": {
    "deletable": true,
    "editable": true,
    "slideshow": {
     "slide_type": "fragment"
    }
   },
   "source": [
    "En esta solución se usa una cadena con \\n , un caracter usado para nueva línea."
   ]
  },
  {
   "cell_type": "code",
   "execution_count": 19,
   "metadata": {
    "collapsed": false,
    "deletable": true,
    "editable": true,
    "slideshow": {
     "slide_type": "fragment"
    }
   },
   "outputs": [
    {
     "name": "stdout",
     "output_type": "stream",
     "text": [
      "a a^2 a^3 \n",
      "1  1   1 \n",
      "2  4   8 \n",
      "3  9   27 \n",
      "4  16  64\n"
     ]
    }
   ],
   "source": [
    "print ('a a^2 a^3 \\n1  1   1 \\n2  4   8 \\n3  9   27 \\n4  16  64')"
   ]
  },
  {
   "cell_type": "markdown",
   "metadata": {
    "deletable": true,
    "editable": true,
    "slideshow": {
     "slide_type": "slide"
    }
   },
   "source": [
    "En esta solución se define una variable llamada DataString, que es una cadena de caracteres (string) en la que se usan los caracteres \\n para nueva línea y \\t para agregar un tabulador."
   ]
  },
  {
   "cell_type": "code",
   "execution_count": 20,
   "metadata": {
    "collapsed": false,
    "deletable": true,
    "editable": true,
    "slideshow": {
     "slide_type": "fragment"
    }
   },
   "outputs": [
    {
     "name": "stdout",
     "output_type": "stream",
     "text": [
      "\n",
      "\n",
      "a\ta^2\ta^3\n",
      "1\t1\t1\n",
      "2\t4\t8\n",
      "3\t9\t27\n",
      "4\t16\t64\n",
      "\n"
     ]
    }
   ],
   "source": [
    "DataString = \"\\n\\na\\ta^2\\ta^3\\n1\\t1\\t1\\n2\\t4\\t8\\n3\\t9\\t27\\n4\\t16\\t64\\n\"\n",
    "\n",
    "print (DataString)"
   ]
  },
  {
   "cell_type": "markdown",
   "metadata": {
    "deletable": true,
    "editable": true,
    "slideshow": {
     "slide_type": "slide"
    }
   },
   "source": [
    "En esta solución se hace un matriz. Debido a que el primera fila de la tabla tiene caracteres, debe usarse una libreria para matemática simbolica llamada sympy. Primero la importamos, de esta libreria se importan paquetes específicos como symbols (que nos sirve para catalogar a 'a' como un simbolo y que, en consecuencia podamos hacer operaciones con él como si fuera una variable). El paquete Matrix es el que permite hacer matrices y init_printing permite una mejor impresión (más bonito)."
   ]
  },
  {
   "cell_type": "code",
   "execution_count": 21,
   "metadata": {
    "collapsed": true,
    "deletable": true,
    "editable": true,
    "slideshow": {
     "slide_type": "fragment"
    }
   },
   "outputs": [],
   "source": [
    "import sympy\n",
    "from sympy import symbols\n",
    "from sympy import Matrix\n",
    "from sympy import init_printing\n",
    "init_printing(use_unicode=True)\n"
   ]
  },
  {
   "cell_type": "markdown",
   "metadata": {
    "deletable": true,
    "editable": true,
    "slideshow": {
     "slide_type": "slide"
    }
   },
   "source": [
    "Definimos a 'a' como simbolo. Se definen 5 listas, cada una con los números y simbolos de cada fila de la tabla y finalmente se crea un matriz llamada tabla con estas listas."
   ]
  },
  {
   "cell_type": "code",
   "execution_count": 22,
   "metadata": {
    "collapsed": false,
    "deletable": true,
    "editable": true,
    "slideshow": {
     "slide_type": "fragment"
    }
   },
   "outputs": [
    {
     "data": {
      "image/png": "[encoded data removed]",
      "text/latex": [
       "$$\\left[\\begin{matrix}a & a^{2} & a^{3}\\\\1 & 1 & 1\\\\2 & 4 & 8\\\\3 & 9 & 27\\\\4 & 16 & 64\\end{matrix}\\right]$$"
      ],
      "text/plain": [
       "⎡    2   3⎤\n",
       "⎢a  a   a ⎥\n",
       "⎢         ⎥\n",
       "⎢1  1   1 ⎥\n",
       "⎢         ⎥\n",
       "⎢2  4   8 ⎥\n",
       "⎢         ⎥\n",
       "⎢3  9   27⎥\n",
       "⎢         ⎥\n",
       "⎣4  16  64⎦"
      ]
     },
     "execution_count": 22,
     "metadata": {},
     "output_type": "execute_result"
    }
   ],
   "source": [
    "a= symbols('a')\n",
    "\n",
    "columna1 = [a, a**2, a**3]\n",
    "columna2 = [1, 1, 1]\n",
    "columna3 = [2, 4, 8]\n",
    "columna4 = [3, 9, 27]\n",
    "columna5 = [4, 16, 64]\n",
    "\n",
    "tabla = Matrix([columna1, columna2, columna3, columna4, columna5])\n",
    "tabla"
   ]
  },
  {
   "cell_type": "markdown",
   "metadata": {
    "deletable": true,
    "editable": true,
    "slideshow": {
     "slide_type": "slide"
    }
   },
   "source": [
    "### Escriba un programa que muestre el resultado de:\n",
    "$$\\frac{9.5\\times4.5-2.5\\times3}{45.5-3.5}$$"
   ]
  },
  {
   "cell_type": "markdown",
   "metadata": {
    "deletable": true,
    "editable": true,
    "slideshow": {
     "slide_type": "fragment"
    }
   },
   "source": [
    "### Solución:\n",
    "En esta solución se usa la función print. Además se utilizan las operaciones multiplicación (*), resta (-),división (/) y se hace uso de los parentesis para indicar que la división se da entre ambas restas.Si no se colocan estos parentesis la división sería solo -2.5x3 entre 45.5 y los demás términos sumarian y restarian por fuera de ella."
   ]
  },
  {
   "cell_type": "code",
   "execution_count": 23,
   "metadata": {
    "collapsed": false,
    "deletable": true,
    "editable": true,
    "slideshow": {
     "slide_type": "slide"
    }
   },
   "outputs": [
    {
     "name": "stdout",
     "output_type": "stream",
     "text": [
      "0.839285714286\n"
     ]
    }
   ],
   "source": [
    "print (9.5 * 4.5 - 2.5 * 3)/(45.5 - 3.5)"
   ]
  },
  {
   "cell_type": "markdown",
   "metadata": {
    "deletable": true,
    "editable": true,
    "slideshow": {
     "slide_type": "slide"
    }
   },
   "source": [
    "### Si un corredor recorre $14 [km]$ en $45 [min]$ y $30 [s]$. Escriba un programa que muestre la velocidad promedio en millas por hora $[\\frac{mi}{hr}]$."
   ]
  },
  {
   "cell_type": "markdown",
   "metadata": {
    "deletable": true,
    "editable": true,
    "slideshow": {
     "slide_type": "fragment"
    }
   },
   "source": [
    "### Solución:\n",
    "Para esta solución se definen cada uno de los elementos necesarios para calcular la velocidad media: desplazamiento y tiempo. Debido a que se encuentran en diferentes unidades, se hace la conversión de km a millas por medio de una multiplicación y la de min y s a hora, también por medio de un factor unitario. Finalmente definimos la velocidad como la división del desplazamiento entre el tiempo y mostramos en pantalla."
   ]
  },
  {
   "cell_type": "code",
   "execution_count": 24,
   "metadata": {
    "collapsed": false,
    "deletable": true,
    "editable": true,
    "slideshow": {
     "slide_type": "slide"
    }
   },
   "outputs": [
    {
     "data": {
      "image/png": "[encoded data removed]",
      "text/latex": [
       "$$11.4739207343$$"
      ],
      "text/plain": [
       "11.4739207343"
      ]
     },
     "execution_count": 24,
     "metadata": {},
     "output_type": "execute_result"
    }
   ],
   "source": [
    "x = 14 * (1/1.609) #Pasamos los km a millas\n",
    "t = (45 * 1./60) + (30 * 1./3600) #Pasamos los minutos a horas y los segundos a horas\n",
    "v = x/t #Definimos la velocidad promedio\n",
    "v"
   ]
  },
  {
   "cell_type": "markdown",
   "metadata": {
    "deletable": true,
    "editable": true,
    "slideshow": {
     "slide_type": "slide"
    }
   },
   "source": [
    "### * Un material muy estable se encuentra monitoreado en condiciones de laboratorio, el número de moléculas se modifica como:\n",
    "* Se forma una molécula nueva por átomos libres cada 7 segundos.\n",
    "* Una molécula se desintegra cada 13 segundos.\n",
    "* Llega una nueva molécula del entorno cada 45 segundos.\n"
   ]
  },
  {
   "cell_type": "markdown",
   "metadata": {
    "deletable": true,
    "editable": true,
    "slideshow": {
     "slide_type": "slide"
    }
   },
   "source": [
    "\n",
    "## Escriba un programa que muestre la cantidad de moléculas para cada uno de los siguientes 5 años.\n",
    "Asuma que la pobración actual es 312032486 y un año tiene 364 días.\n",
    "Ayuda: En Python, puede utilizar el operador de división por enteros donde el resultado es un entero. Por ejemplo 5 // 4 es 1 (no 1.25)."
   ]
  },
  {
   "cell_type": "markdown",
   "metadata": {
    "collapsed": true,
    "deletable": true,
    "editable": true,
    "slideshow": {
     "slide_type": "slide"
    }
   },
   "source": [
    "### Solución:\n",
    "Esta solución se basa en modelar la situación por una función poblacional evaluada. Esta función es: tomar la población inicial y sumarle los aportes de cada factor mencionado en el enunciado multiplicado por el número de años que han pasado. Por esto, se definen los parámetros de la función de crecimiento: población inicial y tasas de crecimiento anual para cada una de las condiciones."
   ]
  },
  {
   "cell_type": "code",
   "execution_count": 25,
   "metadata": {
    "collapsed": true,
    "deletable": true,
    "editable": true,
    "slideshow": {
     "slide_type": "slide"
    }
   },
   "outputs": [],
   "source": [
    "P0 = 312032486 #Definimos la población actual\n",
    "#Pasamos 1 año (364 dias) a segundos para hallar tasas de crecimiento anuales\n",
    "a = 364 * 24/1 * 3600/1 * 1//7 #Defino el crecimiento anual por átomos libres (frecuencia=7 segundos)\n",
    "b = -364 * 24/1 * 3600/1 * 1//13 #Defino el decrecimiento anual por desintegracióm (frecuencia=13 segundos)\n",
    "c = 364 * 24/1 * 3600/1 * 1//45 #Defino el crecimiento anual por entorno (frecuencia=45 segundos)"
   ]
  },
  {
   "cell_type": "markdown",
   "metadata": {
    "deletable": true,
    "editable": true,
    "slideshow": {
     "slide_type": "slide"
    }
   },
   "source": [
    "Escribimos y evaluamos la función para cada año transcurrido, lo cual implica multiplicar las tasas de crecimiento por 1,2,3,4 y 5. Finalmente mostramos los resultados en una tabla con saltos de linea (\\n), tabulación (\\t) y concatenamos todo como un string."
   ]
  },
  {
   "cell_type": "code",
   "execution_count": 26,
   "metadata": {
    "collapsed": false,
    "deletable": true,
    "editable": true,
    "slideshow": {
     "slide_type": "slide"
    }
   },
   "outputs": [
    {
     "name": "stdout",
     "output_type": "stream",
     "text": [
      "\n",
      "\n",
      "Años\t# de moléculas\n",
      "0\t312032486\n",
      "1\t314804966\n",
      "2\t317577446\n",
      "3\t320349926\n",
      "4\t323122406\n",
      "5\t325894886\n",
      "\n"
     ]
    }
   ],
   "source": [
    "P1 = P0 + a + b + c  #Población 1 año después\n",
    "P2 = P0 + 2 *(a + b + c)#Población 2 años después\n",
    "P3 = P0 + 3 *(a + b + c)#Población 3 años después\n",
    "P4 = P0 + 4 *(a + b + c)#Población 4 años después\n",
    "P5 = P0 + 5 *(a + b + c)#Población 5 años después\n",
    "Cantidad = '\\n\\nAños\\t# de moléculas\\n0\\t' + str(P0) + '\\n1\\t' + str(P1) + '\\n2\\t' + str(P2) + '\\n3\\t' + str(P3) + '\\n4\\t' + str(P4) + '\\n5\\t' + str(P5) + '\\n'\n",
    "print (Cantidad)"
   ]
  },
  {
   "cell_type": "code",
   "execution_count": null,
   "metadata": {
    "collapsed": true,
    "deletable": true,
    "editable": true
   },
   "outputs": [],
   "source": []
  }
 ],
 "metadata": {
  "celltoolbar": "Slideshow",
  "kernelspec": {
   "display_name": "Python 2",
   "language": "python",
   "name": "python2"
  },
  "language_info": {
   "codemirror_mode": {
    "name": "ipython",
    "version": 2
   },
   "file_extension": ".py",
   "mimetype": "text/x-python",
   "name": "python",
   "nbconvert_exporter": "python",
   "pygments_lexer": "ipython2",
   "version": "2.7.13"
  },
  "widgets": {
   "application/vnd.jupyter.widget-state+json": {
    "state": {},
    "version_major": 1,
    "version_minor": 0
   }
  }
 },
 "nbformat": 4,
 "nbformat_minor": 2
}
